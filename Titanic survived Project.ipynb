{
 "cells": [
  {
   "cell_type": "markdown",
   "id": "92c7f852-1f56-4336-8486-3322f1d32e18",
   "metadata": {},
   "source": [
    "# Project Description\r\n",
    "The Titanic Problem is based on the sinking of the ‘Unsinkable’ ship Titanic in early 1912. It gives you information about multiple people like their ages, sexes, sibling counts, embarkment points, and whether or not they survived the disaster. \r\n",
    "Based on these features, you have to predict if an arbitrary passenger on Titanic would survive the sinking or not. \r\n"
   ]
  },
  {
   "cell_type": "markdown",
   "id": "f250d14d-e65c-487c-84b1-f1337eb9b243",
   "metadata": {},
   "source": [
    "# Attribute Information\r",
    "1) \n",
    "Passenger id- Unique Id of the passenger2) \r\n",
    "Pclass- Passenger Class (1 = 1st; 2 = 2nd; 3 = 3rd3) )\r\n",
    "Survived- Survived (0 = No; 1 = Ye4) s)\r\n",
    "Name- Name of the passen5) ger\r\n",
    "Sex- Sex of the passenger (Male, Fem6) ale)\r\n",
    "Age- Age of the pass7) enger\r\n",
    "Sibsp- Number of Siblings/Spouses 8) Aboard\r\n",
    "Parch- Number of Parents/Children9)  Aboard\r\n",
    "Ticket- Tick\n",
    "10) Fare- Passenger Fare (British pound)\r",
    "11) \n",
    "Cabin- Cabin12) \r\n",
    "Embarked- Port of Embarkation (C = Cherbourg; Q = Queenstown; S = Southampton)# \r\n",
    "\r\n",
    "Dataset Link-\r\n",
    "https://github.com/FlipRoboTechnologies/ML-Datasets/blob/main/Titanic/titanic_train.csv\r\n",
    "t Number\r\n"
   ]
  },
  {
   "cell_type": "code",
   "execution_count": 1,
   "id": "204b1c9d-6c64-49c1-87b6-45a0266e78a5",
   "metadata": {},
   "outputs": [],
   "source": [
    "# Importing libraries\n",
    "import numpy as np\n",
    "import pandas as pd\n",
    "import matplotlib.pyplot as plt\n",
    "import seaborn as sns\n",
    "import re\n",
    "import warnings\n",
    "warnings.filterwarnings('ignore')"
   ]
  },
  {
   "cell_type": "code",
   "execution_count": 573,
   "id": "117d6975-2745-4827-9d19-8ab5a7d0b744",
   "metadata": {},
   "outputs": [],
   "source": [
    "# Loading Dataset into Dataframe\n",
    "df=pd.read_csv('https://raw.githubusercontent.com/FlipRoboTechnologies/ML-Datasets/main/Titanic/titanic_train.csv')"
   ]
  },
  {
   "cell_type": "code",
   "execution_count": 574,
   "id": "ef8a146c-adbe-47b0-ab82-be143282fe1d",
   "metadata": {},
   "outputs": [
    {
     "data": {
      "text/html": [
       "<div>\n",
       "<style scoped>\n",
       "    .dataframe tbody tr th:only-of-type {\n",
       "        vertical-align: middle;\n",
       "    }\n",
       "\n",
       "    .dataframe tbody tr th {\n",
       "        vertical-align: top;\n",
       "    }\n",
       "\n",
       "    .dataframe thead th {\n",
       "        text-align: right;\n",
       "    }\n",
       "</style>\n",
       "<table border=\"1\" class=\"dataframe\">\n",
       "  <thead>\n",
       "    <tr style=\"text-align: right;\">\n",
       "      <th></th>\n",
       "      <th>PassengerId</th>\n",
       "      <th>Survived</th>\n",
       "      <th>Pclass</th>\n",
       "      <th>Name</th>\n",
       "      <th>Sex</th>\n",
       "      <th>Age</th>\n",
       "      <th>SibSp</th>\n",
       "      <th>Parch</th>\n",
       "      <th>Ticket</th>\n",
       "      <th>Fare</th>\n",
       "      <th>Cabin</th>\n",
       "      <th>Embarked</th>\n",
       "    </tr>\n",
       "  </thead>\n",
       "  <tbody>\n",
       "    <tr>\n",
       "      <th>0</th>\n",
       "      <td>1</td>\n",
       "      <td>0</td>\n",
       "      <td>3</td>\n",
       "      <td>Braund, Mr. Owen Harris</td>\n",
       "      <td>male</td>\n",
       "      <td>22.0</td>\n",
       "      <td>1</td>\n",
       "      <td>0</td>\n",
       "      <td>A/5 21171</td>\n",
       "      <td>7.2500</td>\n",
       "      <td>NaN</td>\n",
       "      <td>S</td>\n",
       "    </tr>\n",
       "    <tr>\n",
       "      <th>1</th>\n",
       "      <td>2</td>\n",
       "      <td>1</td>\n",
       "      <td>1</td>\n",
       "      <td>Cumings, Mrs. John Bradley (Florence Briggs Th...</td>\n",
       "      <td>female</td>\n",
       "      <td>38.0</td>\n",
       "      <td>1</td>\n",
       "      <td>0</td>\n",
       "      <td>PC 17599</td>\n",
       "      <td>71.2833</td>\n",
       "      <td>C85</td>\n",
       "      <td>C</td>\n",
       "    </tr>\n",
       "    <tr>\n",
       "      <th>2</th>\n",
       "      <td>3</td>\n",
       "      <td>1</td>\n",
       "      <td>3</td>\n",
       "      <td>Heikkinen, Miss. Laina</td>\n",
       "      <td>female</td>\n",
       "      <td>26.0</td>\n",
       "      <td>0</td>\n",
       "      <td>0</td>\n",
       "      <td>STON/O2. 3101282</td>\n",
       "      <td>7.9250</td>\n",
       "      <td>NaN</td>\n",
       "      <td>S</td>\n",
       "    </tr>\n",
       "    <tr>\n",
       "      <th>3</th>\n",
       "      <td>4</td>\n",
       "      <td>1</td>\n",
       "      <td>1</td>\n",
       "      <td>Futrelle, Mrs. Jacques Heath (Lily May Peel)</td>\n",
       "      <td>female</td>\n",
       "      <td>35.0</td>\n",
       "      <td>1</td>\n",
       "      <td>0</td>\n",
       "      <td>113803</td>\n",
       "      <td>53.1000</td>\n",
       "      <td>C123</td>\n",
       "      <td>S</td>\n",
       "    </tr>\n",
       "    <tr>\n",
       "      <th>4</th>\n",
       "      <td>5</td>\n",
       "      <td>0</td>\n",
       "      <td>3</td>\n",
       "      <td>Allen, Mr. William Henry</td>\n",
       "      <td>male</td>\n",
       "      <td>35.0</td>\n",
       "      <td>0</td>\n",
       "      <td>0</td>\n",
       "      <td>373450</td>\n",
       "      <td>8.0500</td>\n",
       "      <td>NaN</td>\n",
       "      <td>S</td>\n",
       "    </tr>\n",
       "    <tr>\n",
       "      <th>5</th>\n",
       "      <td>6</td>\n",
       "      <td>0</td>\n",
       "      <td>3</td>\n",
       "      <td>Moran, Mr. James</td>\n",
       "      <td>male</td>\n",
       "      <td>NaN</td>\n",
       "      <td>0</td>\n",
       "      <td>0</td>\n",
       "      <td>330877</td>\n",
       "      <td>8.4583</td>\n",
       "      <td>NaN</td>\n",
       "      <td>Q</td>\n",
       "    </tr>\n",
       "    <tr>\n",
       "      <th>6</th>\n",
       "      <td>7</td>\n",
       "      <td>0</td>\n",
       "      <td>1</td>\n",
       "      <td>McCarthy, Mr. Timothy J</td>\n",
       "      <td>male</td>\n",
       "      <td>54.0</td>\n",
       "      <td>0</td>\n",
       "      <td>0</td>\n",
       "      <td>17463</td>\n",
       "      <td>51.8625</td>\n",
       "      <td>E46</td>\n",
       "      <td>S</td>\n",
       "    </tr>\n",
       "    <tr>\n",
       "      <th>7</th>\n",
       "      <td>8</td>\n",
       "      <td>0</td>\n",
       "      <td>3</td>\n",
       "      <td>Palsson, Master. Gosta Leonard</td>\n",
       "      <td>male</td>\n",
       "      <td>2.0</td>\n",
       "      <td>3</td>\n",
       "      <td>1</td>\n",
       "      <td>349909</td>\n",
       "      <td>21.0750</td>\n",
       "      <td>NaN</td>\n",
       "      <td>S</td>\n",
       "    </tr>\n",
       "    <tr>\n",
       "      <th>8</th>\n",
       "      <td>9</td>\n",
       "      <td>1</td>\n",
       "      <td>3</td>\n",
       "      <td>Johnson, Mrs. Oscar W (Elisabeth Vilhelmina Berg)</td>\n",
       "      <td>female</td>\n",
       "      <td>27.0</td>\n",
       "      <td>0</td>\n",
       "      <td>2</td>\n",
       "      <td>347742</td>\n",
       "      <td>11.1333</td>\n",
       "      <td>NaN</td>\n",
       "      <td>S</td>\n",
       "    </tr>\n",
       "    <tr>\n",
       "      <th>9</th>\n",
       "      <td>10</td>\n",
       "      <td>1</td>\n",
       "      <td>2</td>\n",
       "      <td>Nasser, Mrs. Nicholas (Adele Achem)</td>\n",
       "      <td>female</td>\n",
       "      <td>14.0</td>\n",
       "      <td>1</td>\n",
       "      <td>0</td>\n",
       "      <td>237736</td>\n",
       "      <td>30.0708</td>\n",
       "      <td>NaN</td>\n",
       "      <td>C</td>\n",
       "    </tr>\n",
       "    <tr>\n",
       "      <th>10</th>\n",
       "      <td>11</td>\n",
       "      <td>1</td>\n",
       "      <td>3</td>\n",
       "      <td>Sandstrom, Miss. Marguerite Rut</td>\n",
       "      <td>female</td>\n",
       "      <td>4.0</td>\n",
       "      <td>1</td>\n",
       "      <td>1</td>\n",
       "      <td>PP 9549</td>\n",
       "      <td>16.7000</td>\n",
       "      <td>G6</td>\n",
       "      <td>S</td>\n",
       "    </tr>\n",
       "    <tr>\n",
       "      <th>11</th>\n",
       "      <td>12</td>\n",
       "      <td>1</td>\n",
       "      <td>1</td>\n",
       "      <td>Bonnell, Miss. Elizabeth</td>\n",
       "      <td>female</td>\n",
       "      <td>58.0</td>\n",
       "      <td>0</td>\n",
       "      <td>0</td>\n",
       "      <td>113783</td>\n",
       "      <td>26.5500</td>\n",
       "      <td>C103</td>\n",
       "      <td>S</td>\n",
       "    </tr>\n",
       "    <tr>\n",
       "      <th>12</th>\n",
       "      <td>13</td>\n",
       "      <td>0</td>\n",
       "      <td>3</td>\n",
       "      <td>Saundercock, Mr. William Henry</td>\n",
       "      <td>male</td>\n",
       "      <td>20.0</td>\n",
       "      <td>0</td>\n",
       "      <td>0</td>\n",
       "      <td>A/5. 2151</td>\n",
       "      <td>8.0500</td>\n",
       "      <td>NaN</td>\n",
       "      <td>S</td>\n",
       "    </tr>\n",
       "    <tr>\n",
       "      <th>13</th>\n",
       "      <td>14</td>\n",
       "      <td>0</td>\n",
       "      <td>3</td>\n",
       "      <td>Andersson, Mr. Anders Johan</td>\n",
       "      <td>male</td>\n",
       "      <td>39.0</td>\n",
       "      <td>1</td>\n",
       "      <td>5</td>\n",
       "      <td>347082</td>\n",
       "      <td>31.2750</td>\n",
       "      <td>NaN</td>\n",
       "      <td>S</td>\n",
       "    </tr>\n",
       "    <tr>\n",
       "      <th>14</th>\n",
       "      <td>15</td>\n",
       "      <td>0</td>\n",
       "      <td>3</td>\n",
       "      <td>Vestrom, Miss. Hulda Amanda Adolfina</td>\n",
       "      <td>female</td>\n",
       "      <td>14.0</td>\n",
       "      <td>0</td>\n",
       "      <td>0</td>\n",
       "      <td>350406</td>\n",
       "      <td>7.8542</td>\n",
       "      <td>NaN</td>\n",
       "      <td>S</td>\n",
       "    </tr>\n",
       "  </tbody>\n",
       "</table>\n",
       "</div>"
      ],
      "text/plain": [
       "    PassengerId  Survived  Pclass  \\\n",
       "0             1         0       3   \n",
       "1             2         1       1   \n",
       "2             3         1       3   \n",
       "3             4         1       1   \n",
       "4             5         0       3   \n",
       "5             6         0       3   \n",
       "6             7         0       1   \n",
       "7             8         0       3   \n",
       "8             9         1       3   \n",
       "9            10         1       2   \n",
       "10           11         1       3   \n",
       "11           12         1       1   \n",
       "12           13         0       3   \n",
       "13           14         0       3   \n",
       "14           15         0       3   \n",
       "\n",
       "                                                 Name     Sex   Age  SibSp  \\\n",
       "0                             Braund, Mr. Owen Harris    male  22.0      1   \n",
       "1   Cumings, Mrs. John Bradley (Florence Briggs Th...  female  38.0      1   \n",
       "2                              Heikkinen, Miss. Laina  female  26.0      0   \n",
       "3        Futrelle, Mrs. Jacques Heath (Lily May Peel)  female  35.0      1   \n",
       "4                            Allen, Mr. William Henry    male  35.0      0   \n",
       "5                                    Moran, Mr. James    male   NaN      0   \n",
       "6                             McCarthy, Mr. Timothy J    male  54.0      0   \n",
       "7                      Palsson, Master. Gosta Leonard    male   2.0      3   \n",
       "8   Johnson, Mrs. Oscar W (Elisabeth Vilhelmina Berg)  female  27.0      0   \n",
       "9                 Nasser, Mrs. Nicholas (Adele Achem)  female  14.0      1   \n",
       "10                    Sandstrom, Miss. Marguerite Rut  female   4.0      1   \n",
       "11                           Bonnell, Miss. Elizabeth  female  58.0      0   \n",
       "12                     Saundercock, Mr. William Henry    male  20.0      0   \n",
       "13                        Andersson, Mr. Anders Johan    male  39.0      1   \n",
       "14               Vestrom, Miss. Hulda Amanda Adolfina  female  14.0      0   \n",
       "\n",
       "    Parch            Ticket     Fare Cabin Embarked  \n",
       "0       0         A/5 21171   7.2500   NaN        S  \n",
       "1       0          PC 17599  71.2833   C85        C  \n",
       "2       0  STON/O2. 3101282   7.9250   NaN        S  \n",
       "3       0            113803  53.1000  C123        S  \n",
       "4       0            373450   8.0500   NaN        S  \n",
       "5       0            330877   8.4583   NaN        Q  \n",
       "6       0             17463  51.8625   E46        S  \n",
       "7       1            349909  21.0750   NaN        S  \n",
       "8       2            347742  11.1333   NaN        S  \n",
       "9       0            237736  30.0708   NaN        C  \n",
       "10      1           PP 9549  16.7000    G6        S  \n",
       "11      0            113783  26.5500  C103        S  \n",
       "12      0         A/5. 2151   8.0500   NaN        S  \n",
       "13      5            347082  31.2750   NaN        S  \n",
       "14      0            350406   7.8542   NaN        S  "
      ]
     },
     "execution_count": 574,
     "metadata": {},
     "output_type": "execute_result"
    }
   ],
   "source": [
    "df.head(15)"
   ]
  },
  {
   "cell_type": "markdown",
   "id": "6428f1e8-6137-4726-88fb-e6873e67bd17",
   "metadata": {},
   "source": [
    "# EDA"
   ]
  },
  {
   "cell_type": "code",
   "execution_count": 575,
   "id": "e760a913-2d7f-4cef-94e3-98e578af217f",
   "metadata": {},
   "outputs": [
    {
     "data": {
      "text/plain": [
       "(891, 12)"
      ]
     },
     "execution_count": 575,
     "metadata": {},
     "output_type": "execute_result"
    }
   ],
   "source": [
    "# Dimension of dataset\n",
    "df.shape"
   ]
  },
  {
   "cell_type": "markdown",
   "id": "b17bc46f-0105-4c53-ac09-6e4156e05af8",
   "metadata": {},
   "source": [
    "Dataset has 891 rows and 12 columns. 11 columns are independent Variable and 1 is Target."
   ]
  },
  {
   "cell_type": "code",
   "execution_count": 576,
   "id": "02751646-3a4c-4fe8-8765-f374c8d616a9",
   "metadata": {},
   "outputs": [
    {
     "data": {
      "text/plain": [
       "Index(['PassengerId', 'Survived', 'Pclass', 'Name', 'Sex', 'Age', 'SibSp',\n",
       "       'Parch', 'Ticket', 'Fare', 'Cabin', 'Embarked'],\n",
       "      dtype='object')"
      ]
     },
     "execution_count": 576,
     "metadata": {},
     "output_type": "execute_result"
    }
   ],
   "source": [
    "# Checking Columns name\n",
    "df.columns"
   ]
  },
  {
   "cell_type": "code",
   "execution_count": 577,
   "id": "7955053b-831b-4593-8cf3-c082819d27e9",
   "metadata": {},
   "outputs": [
    {
     "name": "stdout",
     "output_type": "stream",
     "text": [
      "<class 'pandas.core.frame.DataFrame'>\n",
      "RangeIndex: 891 entries, 0 to 890\n",
      "Data columns (total 12 columns):\n",
      " #   Column       Non-Null Count  Dtype  \n",
      "---  ------       --------------  -----  \n",
      " 0   PassengerId  891 non-null    int64  \n",
      " 1   Survived     891 non-null    int64  \n",
      " 2   Pclass       891 non-null    int64  \n",
      " 3   Name         891 non-null    object \n",
      " 4   Sex          891 non-null    object \n",
      " 5   Age          714 non-null    float64\n",
      " 6   SibSp        891 non-null    int64  \n",
      " 7   Parch        891 non-null    int64  \n",
      " 8   Ticket       891 non-null    object \n",
      " 9   Fare         891 non-null    float64\n",
      " 10  Cabin        204 non-null    object \n",
      " 11  Embarked     889 non-null    object \n",
      "dtypes: float64(2), int64(5), object(5)\n",
      "memory usage: 83.7+ KB\n"
     ]
    }
   ],
   "source": [
    "df.info()"
   ]
  },
  {
   "cell_type": "markdown",
   "id": "4b67e8c5-8e3f-4675-8d91-2fc87dc4f565",
   "metadata": {},
   "source": [
    "1) Dataset has three types of data(float, int, object).\n",
    "2) Null values are present in the dataset. Most in Cabin column followed by age column."
   ]
  },
  {
   "cell_type": "markdown",
   "id": "cdfc5b75-78b1-4ac4-9b79-14ca14b2235a",
   "metadata": {},
   "source": [
    "# Null Values"
   ]
  },
  {
   "cell_type": "code",
   "execution_count": 578,
   "id": "d68830f5-1e1a-46c0-99ff-19893918caa6",
   "metadata": {},
   "outputs": [
    {
     "data": {
      "text/plain": [
       "PassengerId      0\n",
       "Survived         0\n",
       "Pclass           0\n",
       "Name             0\n",
       "Sex              0\n",
       "Age            177\n",
       "SibSp            0\n",
       "Parch            0\n",
       "Ticket           0\n",
       "Fare             0\n",
       "Cabin          687\n",
       "Embarked         2\n",
       "dtype: int64"
      ]
     },
     "execution_count": 578,
     "metadata": {},
     "output_type": "execute_result"
    }
   ],
   "source": [
    "#Checking total number of null values present in dataser\n",
    "df.isnull().sum()"
   ]
  },
  {
   "cell_type": "markdown",
   "id": "0edfb3b9-a97f-4ad8-8250-a0de746fa78a",
   "metadata": {},
   "source": [
    "In cabin column 687 values are missing and 177 values are missing in Age. \n",
    "2 missing values in Embarked.\n",
    "In Cabin column more than 70 % rows have missing values. Hence Dropping Cabin from dataset."
   ]
  },
  {
   "cell_type": "code",
   "execution_count": 579,
   "id": "d6987987-d2f9-4ec6-b53b-598c0a39f1ab",
   "metadata": {},
   "outputs": [],
   "source": [
    "# Dropping Cabin\n",
    "df.drop('Cabin',axis=1,inplace=True)"
   ]
  },
  {
   "cell_type": "code",
   "execution_count": 580,
   "id": "5559d930-f176-444f-ba33-b894854249a4",
   "metadata": {},
   "outputs": [],
   "source": [
    "# Filling missing values in Age column\n",
    "df['Age'].fillna(df['Age'].mean(),inplace=True)"
   ]
  },
  {
   "cell_type": "code",
   "execution_count": 581,
   "id": "e267056e-29a8-4f55-9e45-c653da5912b7",
   "metadata": {},
   "outputs": [],
   "source": [
    "# Changing Dtatype of age from float to int\n",
    "df['Age']=df['Age'].astype(int)"
   ]
  },
  {
   "cell_type": "code",
   "execution_count": 582,
   "id": "cc377827-35f1-4c8a-a124-9cc94781cbfb",
   "metadata": {},
   "outputs": [
    {
     "data": {
      "text/plain": [
       "array([22, 38, 26, 35, 29, 54,  2, 27, 14,  4, 58, 20, 39, 55, 31, 34, 15,\n",
       "       28,  8, 19, 40, 66, 42, 21, 18,  3,  7, 49, 65,  5, 11, 45, 17, 32,\n",
       "       16, 25,  0, 30, 33, 23, 24, 46, 59, 71, 37, 47, 70, 12,  9, 36, 51,\n",
       "       44,  1, 61, 56, 50, 62, 41, 52, 63, 43, 60, 10, 64, 13, 48, 53, 57,\n",
       "       80,  6, 74])"
      ]
     },
     "execution_count": 582,
     "metadata": {},
     "output_type": "execute_result"
    }
   ],
   "source": [
    "df['Age'].unique()"
   ]
  },
  {
   "cell_type": "code",
   "execution_count": 583,
   "id": "fae3786e-45e9-4b0d-a5db-0f1c6780950d",
   "metadata": {},
   "outputs": [],
   "source": [
    "# Replace Age 0 with 1\n",
    "df['Age']=df['Age'].replace(0,1)"
   ]
  },
  {
   "cell_type": "code",
   "execution_count": 584,
   "id": "d4fa2e9e-6a7e-4024-84a3-2602e0fc9dce",
   "metadata": {},
   "outputs": [
    {
     "data": {
      "text/plain": [
       "array([22, 38, 26, 35, 29, 54,  2, 27, 14,  4, 58, 20, 39, 55, 31, 34, 15,\n",
       "       28,  8, 19, 40, 66, 42, 21, 18,  3,  7, 49, 65,  5, 11, 45, 17, 32,\n",
       "       16, 25,  1, 30, 33, 23, 24, 46, 59, 71, 37, 47, 70, 12,  9, 36, 51,\n",
       "       44, 61, 56, 50, 62, 41, 52, 63, 43, 60, 10, 64, 13, 48, 53, 57, 80,\n",
       "        6, 74])"
      ]
     },
     "execution_count": 584,
     "metadata": {},
     "output_type": "execute_result"
    }
   ],
   "source": [
    "df.Age.unique()"
   ]
  },
  {
   "cell_type": "code",
   "execution_count": 585,
   "id": "b0f8e396-058e-42e1-947c-0410baae6b93",
   "metadata": {},
   "outputs": [
    {
     "data": {
      "text/plain": [
       "PassengerId    0\n",
       "Survived       0\n",
       "Pclass         0\n",
       "Name           0\n",
       "Sex            0\n",
       "Age            0\n",
       "SibSp          0\n",
       "Parch          0\n",
       "Ticket         0\n",
       "Fare           0\n",
       "Embarked       2\n",
       "dtype: int64"
      ]
     },
     "execution_count": 585,
     "metadata": {},
     "output_type": "execute_result"
    }
   ],
   "source": [
    "df.isnull().sum()"
   ]
  },
  {
   "cell_type": "code",
   "execution_count": 586,
   "id": "4cabd344-e2c8-44f4-9e13-d7cd5540e92b",
   "metadata": {},
   "outputs": [
    {
     "data": {
      "text/plain": [
       "0    S\n",
       "Name: Embarked, dtype: object"
      ]
     },
     "execution_count": 586,
     "metadata": {},
     "output_type": "execute_result"
    }
   ],
   "source": [
    "df['Embarked'].mode()"
   ]
  },
  {
   "cell_type": "code",
   "execution_count": 587,
   "id": "ed241de9-8bb9-4583-944c-bb79c4e019b1",
   "metadata": {},
   "outputs": [],
   "source": [
    "# filling null values in Embarked column\n",
    "df['Embarked'].fillna(df['Embarked'].mode()[0],inplace=True)"
   ]
  },
  {
   "cell_type": "code",
   "execution_count": 588,
   "id": "07ed1ff3-75d4-4af2-bf3f-98dea87de524",
   "metadata": {},
   "outputs": [
    {
     "data": {
      "text/plain": [
       "PassengerId    0\n",
       "Survived       0\n",
       "Pclass         0\n",
       "Name           0\n",
       "Sex            0\n",
       "Age            0\n",
       "SibSp          0\n",
       "Parch          0\n",
       "Ticket         0\n",
       "Fare           0\n",
       "Embarked       0\n",
       "dtype: int64"
      ]
     },
     "execution_count": 588,
     "metadata": {},
     "output_type": "execute_result"
    }
   ],
   "source": [
    "df.isnull().sum()"
   ]
  },
  {
   "cell_type": "code",
   "execution_count": 589,
   "id": "311176de-4349-409b-b8f3-755ba9a91078",
   "metadata": {},
   "outputs": [
    {
     "data": {
      "text/plain": [
       "array([  7.25  ,  71.2833,   7.925 ,  53.1   ,   8.05  ,   8.4583,\n",
       "        51.8625,  21.075 ,  11.1333,  30.0708,  16.7   ,  26.55  ,\n",
       "        31.275 ,   7.8542,  16.    ,  29.125 ,  13.    ,  18.    ,\n",
       "         7.225 ,  26.    ,   8.0292,  35.5   ,  31.3875, 263.    ,\n",
       "         7.8792,   7.8958,  27.7208, 146.5208,   7.75  ,  10.5   ,\n",
       "        82.1708,  52.    ,   7.2292,  11.2417,   9.475 ,  21.    ,\n",
       "        41.5792,  15.5   ,  21.6792,  17.8   ,  39.6875,   7.8   ,\n",
       "        76.7292,  61.9792,  27.75  ,  46.9   ,  80.    ,  83.475 ,\n",
       "        27.9   ,  15.2458,   8.1583,   8.6625,  73.5   ,  14.4542,\n",
       "        56.4958,   7.65  ,  29.    ,  12.475 ,   9.    ,   9.5   ,\n",
       "         7.7875,  47.1   ,  15.85  ,  34.375 ,  61.175 ,  20.575 ,\n",
       "        34.6542,  63.3583,  23.    ,  77.2875,   8.6542,   7.775 ,\n",
       "        24.15  ,   9.825 ,  14.4583, 247.5208,   7.1417,  22.3583,\n",
       "         6.975 ,   7.05  ,  14.5   ,  15.0458,  26.2833,   9.2167,\n",
       "        79.2   ,   6.75  ,  11.5   ,  36.75  ,   7.7958,  12.525 ,\n",
       "        66.6   ,   7.3125,  61.3792,   7.7333,  69.55  ,  16.1   ,\n",
       "        15.75  ,  20.525 ,  55.    ,  25.925 ,  33.5   ,  30.6958,\n",
       "        25.4667,  28.7125,   0.    ,  15.05  ,  39.    ,  22.025 ,\n",
       "        50.    ,   8.4042,   6.4958,  10.4625,  18.7875,  31.    ,\n",
       "       113.275 ,  27.    ,  76.2917,  90.    ,   9.35  ,  13.5   ,\n",
       "         7.55  ,  26.25  ,  12.275 ,   7.125 ,  52.5542,  20.2125,\n",
       "        86.5   , 512.3292,  79.65  , 153.4625, 135.6333,  19.5   ,\n",
       "        29.7   ,  77.9583,  20.25  ,  78.85  ,  91.0792,  12.875 ,\n",
       "         8.85  , 151.55  ,  30.5   ,  23.25  ,  12.35  , 110.8833,\n",
       "       108.9   ,  24.    ,  56.9292,  83.1583, 262.375 ,  14.    ,\n",
       "       164.8667, 134.5   ,   6.2375,  57.9792,  28.5   , 133.65  ,\n",
       "        15.9   ,   9.225 ,  35.    ,  75.25  ,  69.3   ,  55.4417,\n",
       "       211.5   ,   4.0125, 227.525 ,  15.7417,   7.7292,  12.    ,\n",
       "       120.    ,  12.65  ,  18.75  ,   6.8583,  32.5   ,   7.875 ,\n",
       "        14.4   ,  55.9   ,   8.1125,  81.8583,  19.2583,  19.9667,\n",
       "        89.1042,  38.5   ,   7.725 ,  13.7917,   9.8375,   7.0458,\n",
       "         7.5208,  12.2875,   9.5875,  49.5042,  78.2667,  15.1   ,\n",
       "         7.6292,  22.525 ,  26.2875,  59.4   ,   7.4958,  34.0208,\n",
       "        93.5   , 221.7792, 106.425 ,  49.5   ,  71.    ,  13.8625,\n",
       "         7.8292,  39.6   ,  17.4   ,  51.4792,  26.3875,  30.    ,\n",
       "        40.125 ,   8.7125,  15.    ,  33.    ,  42.4   ,  15.55  ,\n",
       "        65.    ,  32.3208,   7.0542,   8.4333,  25.5875,   9.8417,\n",
       "         8.1375,  10.1708, 211.3375,  57.    ,  13.4167,   7.7417,\n",
       "         9.4833,   7.7375,   8.3625,  23.45  ,  25.9292,   8.6833,\n",
       "         8.5167,   7.8875,  37.0042,   6.45  ,   6.95  ,   8.3   ,\n",
       "         6.4375,  39.4   ,  14.1083,  13.8583,  50.4958,   5.    ,\n",
       "         9.8458,  10.5167])"
      ]
     },
     "execution_count": 589,
     "metadata": {},
     "output_type": "execute_result"
    }
   ],
   "source": [
    "# Checking unique values in Fare\n",
    "df.Fare.unique()"
   ]
  },
  {
   "cell_type": "markdown",
   "id": "da86efed-7d6b-4a5b-9485-4ed2c0de5da0",
   "metadata": {},
   "source": [
    "Here we can see value as 0 in Fare column. Which we considring as Missing Value"
   ]
  },
  {
   "cell_type": "code",
   "execution_count": 590,
   "id": "ca4aa0f4-994f-46a3-b2a4-6be7701ad87f",
   "metadata": {},
   "outputs": [
    {
     "data": {
      "text/html": [
       "<div>\n",
       "<style scoped>\n",
       "    .dataframe tbody tr th:only-of-type {\n",
       "        vertical-align: middle;\n",
       "    }\n",
       "\n",
       "    .dataframe tbody tr th {\n",
       "        vertical-align: top;\n",
       "    }\n",
       "\n",
       "    .dataframe thead th {\n",
       "        text-align: right;\n",
       "    }\n",
       "</style>\n",
       "<table border=\"1\" class=\"dataframe\">\n",
       "  <thead>\n",
       "    <tr style=\"text-align: right;\">\n",
       "      <th></th>\n",
       "      <th>PassengerId</th>\n",
       "      <th>Survived</th>\n",
       "      <th>Pclass</th>\n",
       "      <th>Name</th>\n",
       "      <th>Sex</th>\n",
       "      <th>Age</th>\n",
       "      <th>SibSp</th>\n",
       "      <th>Parch</th>\n",
       "      <th>Ticket</th>\n",
       "      <th>Fare</th>\n",
       "      <th>Embarked</th>\n",
       "    </tr>\n",
       "  </thead>\n",
       "  <tbody>\n",
       "    <tr>\n",
       "      <th>179</th>\n",
       "      <td>180</td>\n",
       "      <td>0</td>\n",
       "      <td>3</td>\n",
       "      <td>Leonard, Mr. Lionel</td>\n",
       "      <td>male</td>\n",
       "      <td>36</td>\n",
       "      <td>0</td>\n",
       "      <td>0</td>\n",
       "      <td>LINE</td>\n",
       "      <td>0.0</td>\n",
       "      <td>S</td>\n",
       "    </tr>\n",
       "    <tr>\n",
       "      <th>263</th>\n",
       "      <td>264</td>\n",
       "      <td>0</td>\n",
       "      <td>1</td>\n",
       "      <td>Harrison, Mr. William</td>\n",
       "      <td>male</td>\n",
       "      <td>40</td>\n",
       "      <td>0</td>\n",
       "      <td>0</td>\n",
       "      <td>112059</td>\n",
       "      <td>0.0</td>\n",
       "      <td>S</td>\n",
       "    </tr>\n",
       "    <tr>\n",
       "      <th>271</th>\n",
       "      <td>272</td>\n",
       "      <td>1</td>\n",
       "      <td>3</td>\n",
       "      <td>Tornquist, Mr. William Henry</td>\n",
       "      <td>male</td>\n",
       "      <td>25</td>\n",
       "      <td>0</td>\n",
       "      <td>0</td>\n",
       "      <td>LINE</td>\n",
       "      <td>0.0</td>\n",
       "      <td>S</td>\n",
       "    </tr>\n",
       "    <tr>\n",
       "      <th>277</th>\n",
       "      <td>278</td>\n",
       "      <td>0</td>\n",
       "      <td>2</td>\n",
       "      <td>Parkes, Mr. Francis \"Frank\"</td>\n",
       "      <td>male</td>\n",
       "      <td>29</td>\n",
       "      <td>0</td>\n",
       "      <td>0</td>\n",
       "      <td>239853</td>\n",
       "      <td>0.0</td>\n",
       "      <td>S</td>\n",
       "    </tr>\n",
       "    <tr>\n",
       "      <th>302</th>\n",
       "      <td>303</td>\n",
       "      <td>0</td>\n",
       "      <td>3</td>\n",
       "      <td>Johnson, Mr. William Cahoone Jr</td>\n",
       "      <td>male</td>\n",
       "      <td>19</td>\n",
       "      <td>0</td>\n",
       "      <td>0</td>\n",
       "      <td>LINE</td>\n",
       "      <td>0.0</td>\n",
       "      <td>S</td>\n",
       "    </tr>\n",
       "    <tr>\n",
       "      <th>413</th>\n",
       "      <td>414</td>\n",
       "      <td>0</td>\n",
       "      <td>2</td>\n",
       "      <td>Cunningham, Mr. Alfred Fleming</td>\n",
       "      <td>male</td>\n",
       "      <td>29</td>\n",
       "      <td>0</td>\n",
       "      <td>0</td>\n",
       "      <td>239853</td>\n",
       "      <td>0.0</td>\n",
       "      <td>S</td>\n",
       "    </tr>\n",
       "    <tr>\n",
       "      <th>466</th>\n",
       "      <td>467</td>\n",
       "      <td>0</td>\n",
       "      <td>2</td>\n",
       "      <td>Campbell, Mr. William</td>\n",
       "      <td>male</td>\n",
       "      <td>29</td>\n",
       "      <td>0</td>\n",
       "      <td>0</td>\n",
       "      <td>239853</td>\n",
       "      <td>0.0</td>\n",
       "      <td>S</td>\n",
       "    </tr>\n",
       "    <tr>\n",
       "      <th>481</th>\n",
       "      <td>482</td>\n",
       "      <td>0</td>\n",
       "      <td>2</td>\n",
       "      <td>Frost, Mr. Anthony Wood \"Archie\"</td>\n",
       "      <td>male</td>\n",
       "      <td>29</td>\n",
       "      <td>0</td>\n",
       "      <td>0</td>\n",
       "      <td>239854</td>\n",
       "      <td>0.0</td>\n",
       "      <td>S</td>\n",
       "    </tr>\n",
       "    <tr>\n",
       "      <th>597</th>\n",
       "      <td>598</td>\n",
       "      <td>0</td>\n",
       "      <td>3</td>\n",
       "      <td>Johnson, Mr. Alfred</td>\n",
       "      <td>male</td>\n",
       "      <td>49</td>\n",
       "      <td>0</td>\n",
       "      <td>0</td>\n",
       "      <td>LINE</td>\n",
       "      <td>0.0</td>\n",
       "      <td>S</td>\n",
       "    </tr>\n",
       "    <tr>\n",
       "      <th>633</th>\n",
       "      <td>634</td>\n",
       "      <td>0</td>\n",
       "      <td>1</td>\n",
       "      <td>Parr, Mr. William Henry Marsh</td>\n",
       "      <td>male</td>\n",
       "      <td>29</td>\n",
       "      <td>0</td>\n",
       "      <td>0</td>\n",
       "      <td>112052</td>\n",
       "      <td>0.0</td>\n",
       "      <td>S</td>\n",
       "    </tr>\n",
       "    <tr>\n",
       "      <th>674</th>\n",
       "      <td>675</td>\n",
       "      <td>0</td>\n",
       "      <td>2</td>\n",
       "      <td>Watson, Mr. Ennis Hastings</td>\n",
       "      <td>male</td>\n",
       "      <td>29</td>\n",
       "      <td>0</td>\n",
       "      <td>0</td>\n",
       "      <td>239856</td>\n",
       "      <td>0.0</td>\n",
       "      <td>S</td>\n",
       "    </tr>\n",
       "    <tr>\n",
       "      <th>732</th>\n",
       "      <td>733</td>\n",
       "      <td>0</td>\n",
       "      <td>2</td>\n",
       "      <td>Knight, Mr. Robert J</td>\n",
       "      <td>male</td>\n",
       "      <td>29</td>\n",
       "      <td>0</td>\n",
       "      <td>0</td>\n",
       "      <td>239855</td>\n",
       "      <td>0.0</td>\n",
       "      <td>S</td>\n",
       "    </tr>\n",
       "    <tr>\n",
       "      <th>806</th>\n",
       "      <td>807</td>\n",
       "      <td>0</td>\n",
       "      <td>1</td>\n",
       "      <td>Andrews, Mr. Thomas Jr</td>\n",
       "      <td>male</td>\n",
       "      <td>39</td>\n",
       "      <td>0</td>\n",
       "      <td>0</td>\n",
       "      <td>112050</td>\n",
       "      <td>0.0</td>\n",
       "      <td>S</td>\n",
       "    </tr>\n",
       "    <tr>\n",
       "      <th>815</th>\n",
       "      <td>816</td>\n",
       "      <td>0</td>\n",
       "      <td>1</td>\n",
       "      <td>Fry, Mr. Richard</td>\n",
       "      <td>male</td>\n",
       "      <td>29</td>\n",
       "      <td>0</td>\n",
       "      <td>0</td>\n",
       "      <td>112058</td>\n",
       "      <td>0.0</td>\n",
       "      <td>S</td>\n",
       "    </tr>\n",
       "    <tr>\n",
       "      <th>822</th>\n",
       "      <td>823</td>\n",
       "      <td>0</td>\n",
       "      <td>1</td>\n",
       "      <td>Reuchlin, Jonkheer. John George</td>\n",
       "      <td>male</td>\n",
       "      <td>38</td>\n",
       "      <td>0</td>\n",
       "      <td>0</td>\n",
       "      <td>19972</td>\n",
       "      <td>0.0</td>\n",
       "      <td>S</td>\n",
       "    </tr>\n",
       "  </tbody>\n",
       "</table>\n",
       "</div>"
      ],
      "text/plain": [
       "     PassengerId  Survived  Pclass                              Name   Sex  \\\n",
       "179          180         0       3               Leonard, Mr. Lionel  male   \n",
       "263          264         0       1             Harrison, Mr. William  male   \n",
       "271          272         1       3      Tornquist, Mr. William Henry  male   \n",
       "277          278         0       2       Parkes, Mr. Francis \"Frank\"  male   \n",
       "302          303         0       3   Johnson, Mr. William Cahoone Jr  male   \n",
       "413          414         0       2    Cunningham, Mr. Alfred Fleming  male   \n",
       "466          467         0       2             Campbell, Mr. William  male   \n",
       "481          482         0       2  Frost, Mr. Anthony Wood \"Archie\"  male   \n",
       "597          598         0       3               Johnson, Mr. Alfred  male   \n",
       "633          634         0       1     Parr, Mr. William Henry Marsh  male   \n",
       "674          675         0       2        Watson, Mr. Ennis Hastings  male   \n",
       "732          733         0       2              Knight, Mr. Robert J  male   \n",
       "806          807         0       1            Andrews, Mr. Thomas Jr  male   \n",
       "815          816         0       1                  Fry, Mr. Richard  male   \n",
       "822          823         0       1   Reuchlin, Jonkheer. John George  male   \n",
       "\n",
       "     Age  SibSp  Parch  Ticket  Fare Embarked  \n",
       "179   36      0      0    LINE   0.0        S  \n",
       "263   40      0      0  112059   0.0        S  \n",
       "271   25      0      0    LINE   0.0        S  \n",
       "277   29      0      0  239853   0.0        S  \n",
       "302   19      0      0    LINE   0.0        S  \n",
       "413   29      0      0  239853   0.0        S  \n",
       "466   29      0      0  239853   0.0        S  \n",
       "481   29      0      0  239854   0.0        S  \n",
       "597   49      0      0    LINE   0.0        S  \n",
       "633   29      0      0  112052   0.0        S  \n",
       "674   29      0      0  239856   0.0        S  \n",
       "732   29      0      0  239855   0.0        S  \n",
       "806   39      0      0  112050   0.0        S  \n",
       "815   29      0      0  112058   0.0        S  \n",
       "822   38      0      0   19972   0.0        S  "
      ]
     },
     "execution_count": 590,
     "metadata": {},
     "output_type": "execute_result"
    }
   ],
   "source": [
    "# Checking which rows have 0 as Fare\n",
    "df[df['Fare']==0]"
   ]
  },
  {
   "cell_type": "code",
   "execution_count": 591,
   "id": "cbe7d3cc-bc35-479e-b8bc-5ec9cf0e07d2",
   "metadata": {},
   "outputs": [
    {
     "name": "stdout",
     "output_type": "stream",
     "text": [
      "15 rows has 0 as Fare Value.\n"
     ]
    }
   ],
   "source": [
    "# no of rows with fare value as 0\n",
    "print('{} rows has 0 as Fare Value.'.format(df[df['Fare']==0].shape[0]))"
   ]
  },
  {
   "cell_type": "code",
   "execution_count": 592,
   "id": "d3c7a489-361e-4980-80c3-12bb06158978",
   "metadata": {},
   "outputs": [],
   "source": [
    "# Replacing 0 to np.nan\n",
    "df['Fare'].replace(0,np.nan,inplace=True)"
   ]
  },
  {
   "cell_type": "code",
   "execution_count": 433,
   "id": "382ff006-26a2-4a1f-adcd-39d90de7318f",
   "metadata": {},
   "outputs": [
    {
     "data": {
      "text/plain": [
       "PassengerId     0\n",
       "Survived        0\n",
       "Pclass          0\n",
       "Name            0\n",
       "Sex             0\n",
       "Age             0\n",
       "SibSp           0\n",
       "Parch           0\n",
       "Ticket          0\n",
       "Fare           15\n",
       "Embarked        0\n",
       "dtype: int64"
      ]
     },
     "execution_count": 433,
     "metadata": {},
     "output_type": "execute_result"
    }
   ],
   "source": [
    "df.isnull().sum()"
   ]
  },
  {
   "cell_type": "code",
   "execution_count": 593,
   "id": "da300e61-adaa-47ba-ade4-2db546d9e877",
   "metadata": {},
   "outputs": [],
   "source": [
    "# Filling Missing Value in fare column with median of Fare.\n",
    "df['Fare'].fillna(df.groupby('Pclass')['Fare'].transform('median'),inplace=True)"
   ]
  },
  {
   "cell_type": "code",
   "execution_count": 594,
   "id": "970aaed4-8977-4d7b-b575-c1bb242b01bd",
   "metadata": {},
   "outputs": [
    {
     "data": {
      "text/plain": [
       "PassengerId    0\n",
       "Survived       0\n",
       "Pclass         0\n",
       "Name           0\n",
       "Sex            0\n",
       "Age            0\n",
       "SibSp          0\n",
       "Parch          0\n",
       "Ticket         0\n",
       "Fare           0\n",
       "Embarked       0\n",
       "dtype: int64"
      ]
     },
     "execution_count": 594,
     "metadata": {},
     "output_type": "execute_result"
    }
   ],
   "source": [
    "df.isnull().sum()"
   ]
  },
  {
   "cell_type": "markdown",
   "id": "9d615496-42dd-4374-9e85-2086a1535a29",
   "metadata": {},
   "source": [
    "# Value Counts"
   ]
  },
  {
   "cell_type": "code",
   "execution_count": 595,
   "id": "858da05f-5837-4f5f-91f3-208657af38e3",
   "metadata": {},
   "outputs": [
    {
     "name": "stdout",
     "output_type": "stream",
     "text": [
      "PassengerId\n",
      "1      1\n",
      "599    1\n",
      "588    1\n",
      "589    1\n",
      "590    1\n",
      "      ..\n",
      "301    1\n",
      "302    1\n",
      "303    1\n",
      "304    1\n",
      "891    1\n",
      "Length: 891, dtype: int64\n",
      "\n",
      "\n",
      "Survived\n",
      "0    549\n",
      "1    342\n",
      "dtype: int64\n",
      "\n",
      "\n",
      "Pclass\n",
      "3    491\n",
      "1    216\n",
      "2    184\n",
      "dtype: int64\n",
      "\n",
      "\n",
      "Name\n",
      "Abbing, Mr. Anthony                        1\n",
      "Nysveen, Mr. Johan Hansen                  1\n",
      "Nicholson, Mr. Arthur Ernest               1\n",
      "Nicola-Yarred, Master. Elias               1\n",
      "Nicola-Yarred, Miss. Jamila                1\n",
      "                                          ..\n",
      "Goodwin, Miss. Lillian Amy                 1\n",
      "Goodwin, Mr. Charles Edward                1\n",
      "Goodwin, Mrs. Frederick (Augusta Tyler)    1\n",
      "Graham, Miss. Margaret Edith               1\n",
      "van Melkebeke, Mr. Philemon                1\n",
      "Length: 891, dtype: int64\n",
      "\n",
      "\n",
      "Sex\n",
      "male      577\n",
      "female    314\n",
      "dtype: int64\n",
      "\n",
      "\n",
      "Age\n",
      "29    197\n",
      "24     31\n",
      "30     27\n",
      "22     27\n",
      "28     27\n",
      "     ... \n",
      "53      1\n",
      "12      1\n",
      "66      1\n",
      "74      1\n",
      "80      1\n",
      "Length: 70, dtype: int64\n",
      "\n",
      "\n",
      "SibSp\n",
      "0    608\n",
      "1    209\n",
      "2     28\n",
      "4     18\n",
      "3     16\n",
      "8      7\n",
      "5      5\n",
      "dtype: int64\n",
      "\n",
      "\n",
      "Parch\n",
      "0    678\n",
      "1    118\n",
      "2     80\n",
      "3      5\n",
      "5      5\n",
      "4      4\n",
      "6      1\n",
      "dtype: int64\n",
      "\n",
      "\n",
      "Ticket\n",
      "1601        7\n",
      "CA. 2343    7\n",
      "347082      7\n",
      "CA 2144     6\n",
      "347088      6\n",
      "           ..\n",
      "345572      1\n",
      "345364      1\n",
      "343276      1\n",
      "343275      1\n",
      "347464      1\n",
      "Length: 681, dtype: int64\n",
      "\n",
      "\n",
      "Fare\n",
      "8.0500     47\n",
      "13.0000    42\n",
      "7.8958     38\n",
      "7.7500     34\n",
      "26.0000    31\n",
      "           ..\n",
      "28.7125     1\n",
      "28.5000     1\n",
      "8.8500      1\n",
      "9.2167      1\n",
      "4.0125      1\n",
      "Length: 248, dtype: int64\n",
      "\n",
      "\n",
      "Embarked\n",
      "S    646\n",
      "C    168\n",
      "Q     77\n",
      "dtype: int64\n",
      "\n",
      "\n"
     ]
    }
   ],
   "source": [
    "# Value Counts of each column\n",
    "for d in df.columns.to_list():\n",
    "    print(df.value_counts(d))\n",
    "    print('\\n')"
   ]
  },
  {
   "cell_type": "code",
   "execution_count": 596,
   "id": "d1097fbc-f8e4-46e9-bd99-45b185c7fbdd",
   "metadata": {},
   "outputs": [
    {
     "name": "stdout",
     "output_type": "stream",
     "text": [
      "Total no. unique values in PassengerId column:  891\n",
      "\n",
      "\n",
      "Total no. unique values in Survived column:  2\n",
      "\n",
      "\n",
      "Total no. unique values in Pclass column:  3\n",
      "\n",
      "\n",
      "Total no. unique values in Name column:  891\n",
      "\n",
      "\n",
      "Total no. unique values in Sex column:  2\n",
      "\n",
      "\n",
      "Total no. unique values in Age column:  70\n",
      "\n",
      "\n",
      "Total no. unique values in SibSp column:  7\n",
      "\n",
      "\n",
      "Total no. unique values in Parch column:  7\n",
      "\n",
      "\n",
      "Total no. unique values in Ticket column:  681\n",
      "\n",
      "\n",
      "Total no. unique values in Fare column:  248\n",
      "\n",
      "\n",
      "Total no. unique values in Embarked column:  3\n",
      "\n",
      "\n"
     ]
    }
   ],
   "source": [
    "# Checking no. of unique values in every column\n",
    "for c in df.columns:\n",
    "    print(\"Total no. unique values in {} column: \".format(c),df[c].nunique())\n",
    "    print('\\n')"
   ]
  },
  {
   "cell_type": "markdown",
   "id": "b32af20e-bd91-4df4-90ea-347e88a0d435",
   "metadata": {},
   "source": [
    "PassengerId has uniqueId for every passenger, and passenger name is a object column and every passenger has unique Name. Hence we can drop Both These columns. "
   ]
  },
  {
   "cell_type": "code",
   "execution_count": 597,
   "id": "292a1097-1c0b-4f29-80a7-761de56a6d53",
   "metadata": {},
   "outputs": [],
   "source": [
    "# Dropping PassengerId and Name\n",
    "df.drop('PassengerId',axis=1,inplace=True)"
   ]
  },
  {
   "cell_type": "code",
   "execution_count": 599,
   "id": "6f8bae8c-41ba-4a77-8c97-8f51dea30b68",
   "metadata": {},
   "outputs": [],
   "source": [
    "df.drop('Name',axis=1,inplace=True)"
   ]
  },
  {
   "cell_type": "code",
   "execution_count": 603,
   "id": "5e53808e-4c6e-4a98-a582-1dc17b41c87d",
   "metadata": {},
   "outputs": [
    {
     "data": {
      "text/plain": [
       "(891, 9)"
      ]
     },
     "execution_count": 603,
     "metadata": {},
     "output_type": "execute_result"
    }
   ],
   "source": [
    "df.shape"
   ]
  },
  {
   "cell_type": "code",
   "execution_count": 604,
   "id": "9e3bb933-df23-4f80-9bf8-848c3798fd2b",
   "metadata": {},
   "outputs": [
    {
     "name": "stdout",
     "output_type": "stream",
     "text": [
      "<class 'pandas.core.frame.DataFrame'>\n",
      "RangeIndex: 891 entries, 0 to 890\n",
      "Data columns (total 9 columns):\n",
      " #   Column    Non-Null Count  Dtype  \n",
      "---  ------    --------------  -----  \n",
      " 0   Survived  891 non-null    int64  \n",
      " 1   Pclass    891 non-null    int64  \n",
      " 2   Sex       891 non-null    object \n",
      " 3   Age       891 non-null    int32  \n",
      " 4   SibSp     891 non-null    int64  \n",
      " 5   Parch     891 non-null    int64  \n",
      " 6   Ticket    891 non-null    object \n",
      " 7   Fare      891 non-null    float64\n",
      " 8   Embarked  891 non-null    object \n",
      "dtypes: float64(1), int32(1), int64(4), object(3)\n",
      "memory usage: 59.3+ KB\n"
     ]
    }
   ],
   "source": [
    "df.info()"
   ]
  },
  {
   "cell_type": "markdown",
   "id": "cd07fded-9240-41bb-91dc-b38c9e17b8f5",
   "metadata": {},
   "source": [
    "# Description of Dataset"
   ]
  },
  {
   "cell_type": "code",
   "execution_count": 605,
   "id": "b01f1638-c60a-4fe0-bc8f-79c37b8477a6",
   "metadata": {},
   "outputs": [
    {
     "data": {
      "text/html": [
       "<div>\n",
       "<style scoped>\n",
       "    .dataframe tbody tr th:only-of-type {\n",
       "        vertical-align: middle;\n",
       "    }\n",
       "\n",
       "    .dataframe tbody tr th {\n",
       "        vertical-align: top;\n",
       "    }\n",
       "\n",
       "    .dataframe thead th {\n",
       "        text-align: right;\n",
       "    }\n",
       "</style>\n",
       "<table border=\"1\" class=\"dataframe\">\n",
       "  <thead>\n",
       "    <tr style=\"text-align: right;\">\n",
       "      <th></th>\n",
       "      <th>Survived</th>\n",
       "      <th>Pclass</th>\n",
       "      <th>Age</th>\n",
       "      <th>SibSp</th>\n",
       "      <th>Parch</th>\n",
       "      <th>Fare</th>\n",
       "    </tr>\n",
       "  </thead>\n",
       "  <tbody>\n",
       "    <tr>\n",
       "      <th>count</th>\n",
       "      <td>891.000000</td>\n",
       "      <td>891.000000</td>\n",
       "      <td>891.000000</td>\n",
       "      <td>891.000000</td>\n",
       "      <td>891.000000</td>\n",
       "      <td>891.000000</td>\n",
       "    </tr>\n",
       "    <tr>\n",
       "      <th>mean</th>\n",
       "      <td>0.383838</td>\n",
       "      <td>2.308642</td>\n",
       "      <td>29.552189</td>\n",
       "      <td>0.523008</td>\n",
       "      <td>0.381594</td>\n",
       "      <td>32.689318</td>\n",
       "    </tr>\n",
       "    <tr>\n",
       "      <th>std</th>\n",
       "      <td>0.486592</td>\n",
       "      <td>0.836071</td>\n",
       "      <td>12.996210</td>\n",
       "      <td>1.102743</td>\n",
       "      <td>0.806057</td>\n",
       "      <td>49.611639</td>\n",
       "    </tr>\n",
       "    <tr>\n",
       "      <th>min</th>\n",
       "      <td>0.000000</td>\n",
       "      <td>1.000000</td>\n",
       "      <td>1.000000</td>\n",
       "      <td>0.000000</td>\n",
       "      <td>0.000000</td>\n",
       "      <td>4.012500</td>\n",
       "    </tr>\n",
       "    <tr>\n",
       "      <th>25%</th>\n",
       "      <td>0.000000</td>\n",
       "      <td>2.000000</td>\n",
       "      <td>22.000000</td>\n",
       "      <td>0.000000</td>\n",
       "      <td>0.000000</td>\n",
       "      <td>7.925000</td>\n",
       "    </tr>\n",
       "    <tr>\n",
       "      <th>50%</th>\n",
       "      <td>0.000000</td>\n",
       "      <td>3.000000</td>\n",
       "      <td>29.000000</td>\n",
       "      <td>0.000000</td>\n",
       "      <td>0.000000</td>\n",
       "      <td>14.500000</td>\n",
       "    </tr>\n",
       "    <tr>\n",
       "      <th>75%</th>\n",
       "      <td>1.000000</td>\n",
       "      <td>3.000000</td>\n",
       "      <td>35.000000</td>\n",
       "      <td>1.000000</td>\n",
       "      <td>0.000000</td>\n",
       "      <td>31.275000</td>\n",
       "    </tr>\n",
       "    <tr>\n",
       "      <th>max</th>\n",
       "      <td>1.000000</td>\n",
       "      <td>3.000000</td>\n",
       "      <td>80.000000</td>\n",
       "      <td>8.000000</td>\n",
       "      <td>6.000000</td>\n",
       "      <td>512.329200</td>\n",
       "    </tr>\n",
       "  </tbody>\n",
       "</table>\n",
       "</div>"
      ],
      "text/plain": [
       "         Survived      Pclass         Age       SibSp       Parch        Fare\n",
       "count  891.000000  891.000000  891.000000  891.000000  891.000000  891.000000\n",
       "mean     0.383838    2.308642   29.552189    0.523008    0.381594   32.689318\n",
       "std      0.486592    0.836071   12.996210    1.102743    0.806057   49.611639\n",
       "min      0.000000    1.000000    1.000000    0.000000    0.000000    4.012500\n",
       "25%      0.000000    2.000000   22.000000    0.000000    0.000000    7.925000\n",
       "50%      0.000000    3.000000   29.000000    0.000000    0.000000   14.500000\n",
       "75%      1.000000    3.000000   35.000000    1.000000    0.000000   31.275000\n",
       "max      1.000000    3.000000   80.000000    8.000000    6.000000  512.329200"
      ]
     },
     "execution_count": 605,
     "metadata": {},
     "output_type": "execute_result"
    }
   ],
   "source": [
    "df.describe()"
   ]
  },
  {
   "cell_type": "markdown",
   "id": "00e71c0a-380c-4187-966d-5cb0dcbe8cd5",
   "metadata": {},
   "source": [
    "1) There is huge Differnce Between 75th percentile and max data in Age and Fare . Which infers the presence of outliers in these columns.\n",
    "2) In Fare Column mean is Greater than median which means data is right Skewed.\n",
    "3) SibSp and Parch are categorical Columns so there is no need to check skewness and outliers in these two."
   ]
  },
  {
   "cell_type": "markdown",
   "id": "6e7de664-9b27-432f-a1f9-6a71c858a638",
   "metadata": {},
   "source": [
    "# Graphical Analysis"
   ]
  },
  {
   "cell_type": "markdown",
   "id": "a361856f-889b-42eb-b677-236895eac25e",
   "metadata": {},
   "source": [
    "Univariate Analysis"
   ]
  },
  {
   "cell_type": "code",
   "execution_count": 606,
   "id": "bebe9b9f-dc29-4f31-bf44-314d1a82b48b",
   "metadata": {},
   "outputs": [
    {
     "data": {
      "image/png": "[encoded data removed]",
      "text/plain": [
       "<Figure size 640x480 with 1 Axes>"
      ]
     },
     "metadata": {},
     "output_type": "display_data"
    }
   ],
   "source": [
    "#Checking the Count of surviver in Gender class.\n",
    "\n",
    "sns.countplot(x='Sex',data=df,hue='Survived')\n",
    "plt.show()"
   ]
  },
  {
   "cell_type": "markdown",
   "id": "17790b86-9d46-485b-8e8f-46c2e7665d75",
   "metadata": {},
   "source": [
    "Count of Female Survivor is Higher than Male Survivor.\n",
    "\n",
    "Note :- 0 represent not survived and 1 represent survived"
   ]
  },
  {
   "cell_type": "code",
   "execution_count": 607,
   "id": "6b9f9938-332c-4327-ba79-09466b915c63",
   "metadata": {},
   "outputs": [
    {
     "data": {
      "image/png": "[encoded data removed]",
      "text/plain": [
       "<Figure size 640x480 with 1 Axes>"
      ]
     },
     "metadata": {},
     "output_type": "display_data"
    }
   ],
   "source": [
    "# Count of Surviver in each passenger class\n",
    "sns.countplot(x='Pclass',data=df,hue='Survived')\n",
    "plt.show()"
   ]
  },
  {
   "cell_type": "markdown",
   "id": "33507c9d-ed4e-43ad-83c9-ae7671475e00",
   "metadata": {},
   "source": [
    "Most number of people survived from Passenger Class 1 , followed by class 3. Class 2 has least number of survivers."
   ]
  },
  {
   "cell_type": "code",
   "execution_count": 608,
   "id": "479690c6-5c7e-4e58-afa3-a46a848cb784",
   "metadata": {},
   "outputs": [
    {
     "data": {
      "image/png": "[encoded data removed]",
      "text/plain": [
       "<Figure size 640x480 with 1 Axes>"
      ]
     },
     "metadata": {},
     "output_type": "display_data"
    }
   ],
   "source": [
    "#Checking Count of Passengers who aboarded with their Parent or children.\n",
    "sns.countplot(x='Parch',data=df)\n",
    "plt.show()"
   ]
  },
  {
   "cell_type": "markdown",
   "id": "fa2407e9-64cc-4f67-af55-83bfa013ce82",
   "metadata": {},
   "source": [
    "Most no. Passengers aboarded Alone."
   ]
  },
  {
   "cell_type": "code",
   "execution_count": 609,
   "id": "15290a24-ebc1-4112-b063-1a9821187d85",
   "metadata": {},
   "outputs": [
    {
     "data": {
      "image/png": "[encoded data removed]",
      "text/plain": [
       "<Figure size 640x480 with 1 Axes>"
      ]
     },
     "metadata": {},
     "output_type": "display_data"
    }
   ],
   "source": [
    "# Checking Count of Passengers who aboarded with their Siblings or Spouses.\n",
    "sns.countplot(x='SibSp',data=df)\n",
    "plt.show()"
   ]
  },
  {
   "cell_type": "markdown",
   "id": "cea95198-976d-4bc4-99a9-2f0ae484b168",
   "metadata": {},
   "source": [
    "Passengers who aboarded alone has the highest count."
   ]
  },
  {
   "cell_type": "code",
   "execution_count": 610,
   "id": "3f24110d-c026-47b2-ab9e-a6c8bc464318",
   "metadata": {},
   "outputs": [
    {
     "data": {
      "image/png": "[encoded data removed]",
      "text/plain": [
       "<Figure size 640x480 with 1 Axes>"
      ]
     },
     "metadata": {},
     "output_type": "display_data"
    }
   ],
   "source": [
    "# Checking count of Passengers Embarked From each ports.\n",
    "# Note :- C = Cherbourg; Q = Queenstown; S = Southampton.\n",
    "sns.countplot(x='Embarked',data=df)\n",
    "plt.show()"
   ]
  },
  {
   "cell_type": "markdown",
   "id": "6574319b-446e-4a88-9470-fe6e7026e628",
   "metadata": {},
   "source": [
    "Most no. passengers Embarked from Southampton port."
   ]
  },
  {
   "cell_type": "code",
   "execution_count": 611,
   "id": "a0be7168-af81-4bf8-847b-e835b0d646ba",
   "metadata": {},
   "outputs": [
    {
     "name": "stdout",
     "output_type": "stream",
     "text": [
      "0    549\n",
      "1    342\n",
      "Name: Survived, dtype: int64\n"
     ]
    },
    {
     "data": {
      "image/png": "[encoded data removed]",
      "text/plain": [
       "<Figure size 640x480 with 1 Axes>"
      ]
     },
     "metadata": {},
     "output_type": "display_data"
    },
    {
     "name": "stdout",
     "output_type": "stream",
     "text": [
      "342 passengers Survived and 549 passengers didn't survived.\n"
     ]
    }
   ],
   "source": [
    "# Checking count of survivers\n",
    "print(df.Survived.value_counts())\n",
    "sns.countplot(x='Survived',data=df)\n",
    "plt.show()\n",
    "print(\"{} passengers Survived and {} passengers didn't survived.\".format(df.Survived.value_counts()[1],df.Survived.value_counts()[0]))"
   ]
  },
  {
   "cell_type": "markdown",
   "id": "0a608adc-b15d-4a9f-abf5-4b73bd6edf45",
   "metadata": {},
   "source": [
    "Count of passengers who didn't survive is higher compared to passengers who survived."
   ]
  },
  {
   "cell_type": "raw",
   "id": "58b71819-d097-40f0-b666-0367a4337f43",
   "metadata": {},
   "source": []
  },
  {
   "cell_type": "markdown",
   "id": "c3ec5d57-b426-44f3-987a-39f0679c3e71",
   "metadata": {},
   "source": [
    "Bivariate Analysis"
   ]
  },
  {
   "cell_type": "code",
   "execution_count": 612,
   "id": "09538133-5f7a-4ec1-af62-73953506b873",
   "metadata": {},
   "outputs": [
    {
     "data": {
      "image/png": "[encoded data removed]",
      "text/plain": [
       "<Figure size 640x480 with 1 Axes>"
      ]
     },
     "metadata": {},
     "output_type": "display_data"
    }
   ],
   "source": [
    "# Relation between Age and Fare\n",
    "sns.scatterplot(x='Age',y='Fare',data=df)\n",
    "plt.show()"
   ]
  },
  {
   "cell_type": "markdown",
   "id": "28d2a3b5-03a7-4b68-8591-d3809eb15a13",
   "metadata": {},
   "source": [
    "Fare is not Dependent on Age."
   ]
  },
  {
   "cell_type": "code",
   "execution_count": null,
   "id": "4d1bac69-38ca-48ae-949e-c10572791e3d",
   "metadata": {},
   "outputs": [],
   "source": []
  },
  {
   "cell_type": "markdown",
   "id": "d886268c-e226-4b32-99cb-0fccdf855fa7",
   "metadata": {},
   "source": [
    "Multivariate Analysis"
   ]
  },
  {
   "cell_type": "code",
   "execution_count": 613,
   "id": "6a1da293-bb8d-499d-92b3-a63090e7ad26",
   "metadata": {},
   "outputs": [
    {
     "data": {
      "image/png": "[encoded data removed]",
      "text/plain": [
       "<Figure size 1500x1500 with 42 Axes>"
      ]
     },
     "metadata": {},
     "output_type": "display_data"
    }
   ],
   "source": [
    "# Using Pairplot\n",
    "sns.pairplot(df)\n",
    "plt.show()"
   ]
  },
  {
   "cell_type": "markdown",
   "id": "94cfc9df-50cb-4048-8082-106fdc7d6e69",
   "metadata": {},
   "source": [
    "Here we can see multiple graphs. which confirms that:\n",
    "1) Fare is right skewed.\n",
    "2) Age and Fare is not related with each other.\n",
    "3) Age has Little Correlation with SibSp"
   ]
  },
  {
   "cell_type": "markdown",
   "id": "9dd30d6e-d741-4b10-a386-3c22b0aeab95",
   "metadata": {},
   "source": [
    "# Label Encoder"
   ]
  },
  {
   "cell_type": "code",
   "execution_count": 614,
   "id": "d9e06a8f-709f-4abb-9ac0-c4ca336383ee",
   "metadata": {},
   "outputs": [
    {
     "name": "stdout",
     "output_type": "stream",
     "text": [
      "<class 'pandas.core.frame.DataFrame'>\n",
      "RangeIndex: 891 entries, 0 to 890\n",
      "Data columns (total 9 columns):\n",
      " #   Column    Non-Null Count  Dtype  \n",
      "---  ------    --------------  -----  \n",
      " 0   Survived  891 non-null    int64  \n",
      " 1   Pclass    891 non-null    int64  \n",
      " 2   Sex       891 non-null    object \n",
      " 3   Age       891 non-null    int32  \n",
      " 4   SibSp     891 non-null    int64  \n",
      " 5   Parch     891 non-null    int64  \n",
      " 6   Ticket    891 non-null    object \n",
      " 7   Fare      891 non-null    float64\n",
      " 8   Embarked  891 non-null    object \n",
      "dtypes: float64(1), int32(1), int64(4), object(3)\n",
      "memory usage: 59.3+ KB\n"
     ]
    }
   ],
   "source": [
    "df.info()"
   ]
  },
  {
   "cell_type": "code",
   "execution_count": 451,
   "id": "76693eaa-90b8-4e2d-b01f-3a3106884684",
   "metadata": {},
   "outputs": [],
   "source": [
    "from sklearn.preprocessing import LabelEncoder"
   ]
  },
  {
   "cell_type": "code",
   "execution_count": 615,
   "id": "843e7cb5-30ad-4fc5-aab6-ab7043e619f2",
   "metadata": {},
   "outputs": [],
   "source": [
    "# Encoding gender,ticket and Embarked column\n",
    "df['Sex']=LabelEncoder().fit_transform(df['Sex'])\n",
    "df['Ticket']=LabelEncoder().fit_transform(df['Ticket'])\n",
    "df['Embarked']=LabelEncoder().fit_transform(df['Embarked'])"
   ]
  },
  {
   "cell_type": "code",
   "execution_count": 616,
   "id": "4ee5f79e-8c84-4537-b959-e4e462ec6c8a",
   "metadata": {},
   "outputs": [
    {
     "name": "stdout",
     "output_type": "stream",
     "text": [
      "<class 'pandas.core.frame.DataFrame'>\n",
      "RangeIndex: 891 entries, 0 to 890\n",
      "Data columns (total 9 columns):\n",
      " #   Column    Non-Null Count  Dtype  \n",
      "---  ------    --------------  -----  \n",
      " 0   Survived  891 non-null    int64  \n",
      " 1   Pclass    891 non-null    int64  \n",
      " 2   Sex       891 non-null    int32  \n",
      " 3   Age       891 non-null    int32  \n",
      " 4   SibSp     891 non-null    int64  \n",
      " 5   Parch     891 non-null    int64  \n",
      " 6   Ticket    891 non-null    int32  \n",
      " 7   Fare      891 non-null    float64\n",
      " 8   Embarked  891 non-null    int32  \n",
      "dtypes: float64(1), int32(4), int64(4)\n",
      "memory usage: 48.9 KB\n"
     ]
    }
   ],
   "source": [
    "df.info()"
   ]
  },
  {
   "cell_type": "markdown",
   "id": "078d8098-f707-4066-8d96-1551db35d79c",
   "metadata": {},
   "source": [
    "# Correlation"
   ]
  },
  {
   "cell_type": "code",
   "execution_count": 617,
   "id": "168cf188-22a5-4de6-b9dc-a8881d6b798c",
   "metadata": {},
   "outputs": [
    {
     "data": {
      "text/html": [
       "<div>\n",
       "<style scoped>\n",
       "    .dataframe tbody tr th:only-of-type {\n",
       "        vertical-align: middle;\n",
       "    }\n",
       "\n",
       "    .dataframe tbody tr th {\n",
       "        vertical-align: top;\n",
       "    }\n",
       "\n",
       "    .dataframe thead th {\n",
       "        text-align: right;\n",
       "    }\n",
       "</style>\n",
       "<table border=\"1\" class=\"dataframe\">\n",
       "  <thead>\n",
       "    <tr style=\"text-align: right;\">\n",
       "      <th></th>\n",
       "      <th>Survived</th>\n",
       "      <th>Pclass</th>\n",
       "      <th>Sex</th>\n",
       "      <th>Age</th>\n",
       "      <th>SibSp</th>\n",
       "      <th>Parch</th>\n",
       "      <th>Ticket</th>\n",
       "      <th>Fare</th>\n",
       "      <th>Embarked</th>\n",
       "    </tr>\n",
       "  </thead>\n",
       "  <tbody>\n",
       "    <tr>\n",
       "      <th>Survived</th>\n",
       "      <td>1.000000</td>\n",
       "      <td>-0.338481</td>\n",
       "      <td>-0.543351</td>\n",
       "      <td>-0.067134</td>\n",
       "      <td>-0.035322</td>\n",
       "      <td>0.081629</td>\n",
       "      <td>-0.164549</td>\n",
       "      <td>0.250383</td>\n",
       "      <td>-0.167675</td>\n",
       "    </tr>\n",
       "    <tr>\n",
       "      <th>Pclass</th>\n",
       "      <td>-0.338481</td>\n",
       "      <td>1.000000</td>\n",
       "      <td>0.131900</td>\n",
       "      <td>-0.335540</td>\n",
       "      <td>0.083081</td>\n",
       "      <td>0.018443</td>\n",
       "      <td>0.319869</td>\n",
       "      <td>-0.561542</td>\n",
       "      <td>0.162098</td>\n",
       "    </tr>\n",
       "    <tr>\n",
       "      <th>Sex</th>\n",
       "      <td>-0.543351</td>\n",
       "      <td>0.131900</td>\n",
       "      <td>1.000000</td>\n",
       "      <td>0.082729</td>\n",
       "      <td>-0.114631</td>\n",
       "      <td>-0.245489</td>\n",
       "      <td>0.059372</td>\n",
       "      <td>-0.175416</td>\n",
       "      <td>0.108262</td>\n",
       "    </tr>\n",
       "    <tr>\n",
       "      <th>Age</th>\n",
       "      <td>-0.067134</td>\n",
       "      <td>-0.335540</td>\n",
       "      <td>0.082729</td>\n",
       "      <td>1.000000</td>\n",
       "      <td>-0.232796</td>\n",
       "      <td>-0.176304</td>\n",
       "      <td>-0.069576</td>\n",
       "      <td>0.097206</td>\n",
       "      <td>-0.023260</td>\n",
       "    </tr>\n",
       "    <tr>\n",
       "      <th>SibSp</th>\n",
       "      <td>-0.035322</td>\n",
       "      <td>0.083081</td>\n",
       "      <td>-0.114631</td>\n",
       "      <td>-0.232796</td>\n",
       "      <td>1.000000</td>\n",
       "      <td>0.414838</td>\n",
       "      <td>0.079461</td>\n",
       "      <td>0.155271</td>\n",
       "      <td>0.068230</td>\n",
       "    </tr>\n",
       "    <tr>\n",
       "      <th>Parch</th>\n",
       "      <td>0.081629</td>\n",
       "      <td>0.018443</td>\n",
       "      <td>-0.245489</td>\n",
       "      <td>-0.176304</td>\n",
       "      <td>0.414838</td>\n",
       "      <td>1.000000</td>\n",
       "      <td>0.020003</td>\n",
       "      <td>0.211947</td>\n",
       "      <td>0.039798</td>\n",
       "    </tr>\n",
       "    <tr>\n",
       "      <th>Ticket</th>\n",
       "      <td>-0.164549</td>\n",
       "      <td>0.319869</td>\n",
       "      <td>0.059372</td>\n",
       "      <td>-0.069576</td>\n",
       "      <td>0.079461</td>\n",
       "      <td>0.020003</td>\n",
       "      <td>1.000000</td>\n",
       "      <td>-0.025872</td>\n",
       "      <td>-0.001729</td>\n",
       "    </tr>\n",
       "    <tr>\n",
       "      <th>Fare</th>\n",
       "      <td>0.250383</td>\n",
       "      <td>-0.561542</td>\n",
       "      <td>-0.175416</td>\n",
       "      <td>0.097206</td>\n",
       "      <td>0.155271</td>\n",
       "      <td>0.211947</td>\n",
       "      <td>-0.025872</td>\n",
       "      <td>1.000000</td>\n",
       "      <td>-0.219357</td>\n",
       "    </tr>\n",
       "    <tr>\n",
       "      <th>Embarked</th>\n",
       "      <td>-0.167675</td>\n",
       "      <td>0.162098</td>\n",
       "      <td>0.108262</td>\n",
       "      <td>-0.023260</td>\n",
       "      <td>0.068230</td>\n",
       "      <td>0.039798</td>\n",
       "      <td>-0.001729</td>\n",
       "      <td>-0.219357</td>\n",
       "      <td>1.000000</td>\n",
       "    </tr>\n",
       "  </tbody>\n",
       "</table>\n",
       "</div>"
      ],
      "text/plain": [
       "          Survived    Pclass       Sex       Age     SibSp     Parch  \\\n",
       "Survived  1.000000 -0.338481 -0.543351 -0.067134 -0.035322  0.081629   \n",
       "Pclass   -0.338481  1.000000  0.131900 -0.335540  0.083081  0.018443   \n",
       "Sex      -0.543351  0.131900  1.000000  0.082729 -0.114631 -0.245489   \n",
       "Age      -0.067134 -0.335540  0.082729  1.000000 -0.232796 -0.176304   \n",
       "SibSp    -0.035322  0.083081 -0.114631 -0.232796  1.000000  0.414838   \n",
       "Parch     0.081629  0.018443 -0.245489 -0.176304  0.414838  1.000000   \n",
       "Ticket   -0.164549  0.319869  0.059372 -0.069576  0.079461  0.020003   \n",
       "Fare      0.250383 -0.561542 -0.175416  0.097206  0.155271  0.211947   \n",
       "Embarked -0.167675  0.162098  0.108262 -0.023260  0.068230  0.039798   \n",
       "\n",
       "            Ticket      Fare  Embarked  \n",
       "Survived -0.164549  0.250383 -0.167675  \n",
       "Pclass    0.319869 -0.561542  0.162098  \n",
       "Sex       0.059372 -0.175416  0.108262  \n",
       "Age      -0.069576  0.097206 -0.023260  \n",
       "SibSp     0.079461  0.155271  0.068230  \n",
       "Parch     0.020003  0.211947  0.039798  \n",
       "Ticket    1.000000 -0.025872 -0.001729  \n",
       "Fare     -0.025872  1.000000 -0.219357  \n",
       "Embarked -0.001729 -0.219357  1.000000  "
      ]
     },
     "execution_count": 617,
     "metadata": {},
     "output_type": "execute_result"
    }
   ],
   "source": [
    "df.corr()"
   ]
  },
  {
   "cell_type": "code",
   "execution_count": 618,
   "id": "39789a81-b841-4619-bdc1-b911ca80be5f",
   "metadata": {},
   "outputs": [
    {
     "data": {
      "image/png": "[encoded data removed]",
      "text/plain": [
       "<Figure size 1500x1000 with 2 Axes>"
      ]
     },
     "metadata": {},
     "output_type": "display_data"
    }
   ],
   "source": [
    "plt.figure(figsize=(15,10))\n",
    "sns.heatmap(df.corr(),annot=True,cmap='Blues')\n",
    "plt.show()"
   ]
  },
  {
   "cell_type": "markdown",
   "id": "d4ae7147-77fd-4a60-a6e6-5049d9868bd6",
   "metadata": {},
   "source": [
    "1) Any of the independent variable Doesn't have strong relation with other independent variables.\n",
    "2) Gender has the Highest negative correlation with survived followed by Pclass.\n",
    "3) Fare has the positive correlation with Survived."
   ]
  },
  {
   "cell_type": "code",
   "execution_count": 619,
   "id": "3d4a4c25-8ef9-4105-9aa5-7ebe9641f55d",
   "metadata": {},
   "outputs": [
    {
     "data": {
      "text/plain": [
       "(891, 9)"
      ]
     },
     "execution_count": 619,
     "metadata": {},
     "output_type": "execute_result"
    }
   ],
   "source": [
    "df.shape"
   ]
  },
  {
   "cell_type": "code",
   "execution_count": 620,
   "id": "28d2ce40-6d4e-4613-b59e-f7057c77b7d2",
   "metadata": {},
   "outputs": [],
   "source": [
    "# creating a copy of data to see model is performing Better with outliers or without outliers.\n",
    "do=df.copy()"
   ]
  },
  {
   "cell_type": "code",
   "execution_count": 621,
   "id": "f1f9d5ba-4942-4cb3-9424-21d8b66c09bd",
   "metadata": {},
   "outputs": [
    {
     "data": {
      "text/plain": [
       "(891, 9)"
      ]
     },
     "execution_count": 621,
     "metadata": {},
     "output_type": "execute_result"
    }
   ],
   "source": [
    "do.shape"
   ]
  },
  {
   "cell_type": "markdown",
   "id": "0e6367f9-7d9a-4fc6-95a2-0e1af01c59ad",
   "metadata": {},
   "source": [
    "# Removing Outliers"
   ]
  },
  {
   "cell_type": "code",
   "execution_count": 622,
   "id": "72b74919-47ab-4720-a075-18255c7f43e7",
   "metadata": {},
   "outputs": [
    {
     "data": {
      "image/png": "[encoded data removed]",
      "text/plain": [
       "<Figure size 1500x800 with 10 Axes>"
      ]
     },
     "metadata": {},
     "output_type": "display_data"
    }
   ],
   "source": [
    "# Plotting boxplot to check outliers\n",
    "df.plot(kind='box',subplots=True,layout=(2,5),figsize=(15,8))\n",
    "plt.tight_layout()\n",
    "plt.show()"
   ]
  },
  {
   "cell_type": "markdown",
   "id": "5a9a5128-1647-4e33-9cb8-372f33df92d4",
   "metadata": {},
   "source": [
    "Outliers are present in Fare and Age Column."
   ]
  },
  {
   "cell_type": "code",
   "execution_count": 467,
   "id": "684cb41d-a4c5-42a1-ba2d-190fc232a31f",
   "metadata": {},
   "outputs": [],
   "source": [
    "# imporing zscore\n",
    "from scipy.stats import zscore"
   ]
  },
  {
   "cell_type": "code",
   "execution_count": 623,
   "id": "6e9e63ca-772e-45c2-a741-1dd41ce79733",
   "metadata": {},
   "outputs": [],
   "source": [
    "z=np.abs(zscore(df[['Fare','Age']]))"
   ]
  },
  {
   "cell_type": "code",
   "execution_count": 624,
   "id": "cc670e88-2abf-4a54-b5ef-abcf4c3fb132",
   "metadata": {},
   "outputs": [
    {
     "name": "stdout",
     "output_type": "stream",
     "text": [
      "(array([ 27,  88,  96, 116, 118, 258, 299, 311, 341, 377, 380, 438, 493,\n",
      "       527, 557, 630, 672, 679, 689, 700, 716, 730, 737, 742, 745, 779,\n",
      "       851], dtype=int64), array([0, 0, 1, 1, 0, 0, 0, 0, 0, 0, 0, 0, 1, 0, 0, 1, 1, 0, 0, 0, 0, 0,\n",
      "       0, 0, 1, 0, 1], dtype=int64))\n"
     ]
    }
   ],
   "source": [
    "# Threshold = 3\n",
    "print(np.where(z>3))"
   ]
  },
  {
   "cell_type": "code",
   "execution_count": 625,
   "id": "2fd9f5bf-d4ea-49d9-be9b-41d2740c351b",
   "metadata": {},
   "outputs": [
    {
     "data": {
      "text/html": [
       "<div>\n",
       "<style scoped>\n",
       "    .dataframe tbody tr th:only-of-type {\n",
       "        vertical-align: middle;\n",
       "    }\n",
       "\n",
       "    .dataframe tbody tr th {\n",
       "        vertical-align: top;\n",
       "    }\n",
       "\n",
       "    .dataframe thead th {\n",
       "        text-align: right;\n",
       "    }\n",
       "</style>\n",
       "<table border=\"1\" class=\"dataframe\">\n",
       "  <thead>\n",
       "    <tr style=\"text-align: right;\">\n",
       "      <th></th>\n",
       "      <th>Fare</th>\n",
       "      <th>Age</th>\n",
       "    </tr>\n",
       "  </thead>\n",
       "  <tbody>\n",
       "    <tr>\n",
       "      <th>0</th>\n",
       "      <td>0.513057</td>\n",
       "      <td>0.581433</td>\n",
       "    </tr>\n",
       "    <tr>\n",
       "      <th>1</th>\n",
       "      <td>0.778359</td>\n",
       "      <td>0.650386</td>\n",
       "    </tr>\n",
       "    <tr>\n",
       "      <th>2</th>\n",
       "      <td>0.499444</td>\n",
       "      <td>0.273478</td>\n",
       "    </tr>\n",
       "    <tr>\n",
       "      <th>3</th>\n",
       "      <td>0.411640</td>\n",
       "      <td>0.419420</td>\n",
       "    </tr>\n",
       "    <tr>\n",
       "      <th>4</th>\n",
       "      <td>0.496923</td>\n",
       "      <td>0.419420</td>\n",
       "    </tr>\n",
       "    <tr>\n",
       "      <th>...</th>\n",
       "      <td>...</td>\n",
       "      <td>...</td>\n",
       "    </tr>\n",
       "    <tr>\n",
       "      <th>886</th>\n",
       "      <td>0.397092</td>\n",
       "      <td>0.196490</td>\n",
       "    </tr>\n",
       "    <tr>\n",
       "      <th>887</th>\n",
       "      <td>0.054238</td>\n",
       "      <td>0.812400</td>\n",
       "    </tr>\n",
       "    <tr>\n",
       "      <th>888</th>\n",
       "      <td>0.186337</td>\n",
       "      <td>0.042512</td>\n",
       "    </tr>\n",
       "    <tr>\n",
       "      <th>889</th>\n",
       "      <td>0.054238</td>\n",
       "      <td>0.273478</td>\n",
       "    </tr>\n",
       "    <tr>\n",
       "      <th>890</th>\n",
       "      <td>0.502973</td>\n",
       "      <td>0.188454</td>\n",
       "    </tr>\n",
       "  </tbody>\n",
       "</table>\n",
       "<p>891 rows × 2 columns</p>\n",
       "</div>"
      ],
      "text/plain": [
       "         Fare       Age\n",
       "0    0.513057  0.581433\n",
       "1    0.778359  0.650386\n",
       "2    0.499444  0.273478\n",
       "3    0.411640  0.419420\n",
       "4    0.496923  0.419420\n",
       "..        ...       ...\n",
       "886  0.397092  0.196490\n",
       "887  0.054238  0.812400\n",
       "888  0.186337  0.042512\n",
       "889  0.054238  0.273478\n",
       "890  0.502973  0.188454\n",
       "\n",
       "[891 rows x 2 columns]"
      ]
     },
     "execution_count": 625,
     "metadata": {},
     "output_type": "execute_result"
    }
   ],
   "source": [
    "z"
   ]
  },
  {
   "cell_type": "code",
   "execution_count": 626,
   "id": "5817dff5-1fa4-419b-b9a0-d14cd6574a97",
   "metadata": {},
   "outputs": [],
   "source": [
    "# removing outliers\n",
    "dfn=df[np.abs(z<3).all(axis=1)]"
   ]
  },
  {
   "cell_type": "code",
   "execution_count": 627,
   "id": "b8df5f2c-ee2e-49a1-ab54-64d6e0db5973",
   "metadata": {},
   "outputs": [
    {
     "name": "stdout",
     "output_type": "stream",
     "text": [
      "(891, 9)\n",
      "(864, 9)\n",
      " 27 rows are removed.\n"
     ]
    }
   ],
   "source": [
    "# Checking how many rows removed\n",
    "print(df.shape)\n",
    "print(dfn.shape)\n",
    "print(\" {} rows are removed.\".format(df.shape[0]-dfn.shape[0]))"
   ]
  },
  {
   "cell_type": "code",
   "execution_count": 628,
   "id": "27ce4c9d-9867-40cf-98f4-ff623ea39132",
   "metadata": {},
   "outputs": [],
   "source": [
    "dfn1=dfn.copy()"
   ]
  },
  {
   "cell_type": "markdown",
   "id": "89f389c7-bb6e-4664-b0b7-e035cd2ce1a7",
   "metadata": {},
   "source": [
    "# Dividing dataset"
   ]
  },
  {
   "cell_type": "code",
   "execution_count": 629,
   "id": "a8cf2fa1-963a-423a-8089-a94a6d5646d3",
   "metadata": {},
   "outputs": [],
   "source": [
    "# Dividing data into x(input) and Y(output) variables.\n",
    "x=dfn.drop('Survived',axis=1)\n",
    "y=dfn['Survived']"
   ]
  },
  {
   "cell_type": "code",
   "execution_count": 630,
   "id": "564f3e4a-bbfc-4ae3-9f74-6519b89c85fa",
   "metadata": {},
   "outputs": [
    {
     "name": "stdout",
     "output_type": "stream",
     "text": [
      "(864, 8)\n",
      "(864,)\n"
     ]
    }
   ],
   "source": [
    "print(x.shape)\n",
    "print(y.shape)"
   ]
  },
  {
   "cell_type": "code",
   "execution_count": null,
   "id": "2eb81d9a-d7ae-46e0-b071-c4f887c2bebe",
   "metadata": {},
   "outputs": [],
   "source": []
  },
  {
   "cell_type": "markdown",
   "id": "e068bb7f-5a83-4a83-97bb-848b876bd0e3",
   "metadata": {},
   "source": [
    "Skewness"
   ]
  },
  {
   "cell_type": "code",
   "execution_count": 631,
   "id": "76271126-9320-4613-aded-7946d44cf09f",
   "metadata": {},
   "outputs": [
    {
     "data": {
      "text/plain": [
       "Pclass     -0.708375\n",
       "Sex        -0.632203\n",
       "Age         0.276455\n",
       "SibSp       3.751753\n",
       "Parch       2.840412\n",
       "Ticket      0.012485\n",
       "Fare        2.237929\n",
       "Embarked   -1.328443\n",
       "dtype: float64"
      ]
     },
     "execution_count": 631,
     "metadata": {},
     "output_type": "execute_result"
    }
   ],
   "source": [
    "x.skew()"
   ]
  },
  {
   "cell_type": "code",
   "execution_count": 632,
   "id": "c44718c1-9524-4ae9-a226-cd1dcaf8c186",
   "metadata": {},
   "outputs": [],
   "source": [
    "# Creating Some copies to apply different skewness method.\n",
    "xa=x.copy()\n",
    "xb=x.copy()\n",
    "xc=x.copy()\n",
    "xd=x.copy()"
   ]
  },
  {
   "cell_type": "code",
   "execution_count": 633,
   "id": "b0611014-e4e4-4786-9d71-0db39f9449fd",
   "metadata": {},
   "outputs": [],
   "source": [
    "# removing Skewness from Fare using cube root\n",
    "xa['Fare']=np.cbrt(xa['Fare'])"
   ]
  },
  {
   "cell_type": "code",
   "execution_count": 634,
   "id": "ed9f3420-44b7-4029-8ae2-a47c3aeed56b",
   "metadata": {},
   "outputs": [
    {
     "data": {
      "text/plain": [
       "Pclass     -0.708375\n",
       "Sex        -0.632203\n",
       "Age         0.276455\n",
       "SibSp       3.751753\n",
       "Parch       2.840412\n",
       "Ticket      0.012485\n",
       "Fare        1.151673\n",
       "Embarked   -1.328443\n",
       "dtype: float64"
      ]
     },
     "execution_count": 634,
     "metadata": {},
     "output_type": "execute_result"
    }
   ],
   "source": [
    "xa.skew()"
   ]
  },
  {
   "cell_type": "code",
   "execution_count": 635,
   "id": "3d5a53e3-eb82-457e-acf6-529a51f407b7",
   "metadata": {},
   "outputs": [],
   "source": [
    "# Using Square root\n",
    "xa['Fare']=np.sqrt(xa['Fare'])"
   ]
  },
  {
   "cell_type": "code",
   "execution_count": 636,
   "id": "5132fc6e-8387-49e5-96c0-bb904db5fe91",
   "metadata": {},
   "outputs": [
    {
     "data": {
      "text/plain": [
       "Pclass     -0.708375\n",
       "Sex        -0.632203\n",
       "Age         0.276455\n",
       "SibSp       3.751753\n",
       "Parch       2.840412\n",
       "Ticket      0.012485\n",
       "Fare        0.923181\n",
       "Embarked   -1.328443\n",
       "dtype: float64"
      ]
     },
     "execution_count": 636,
     "metadata": {},
     "output_type": "execute_result"
    }
   ],
   "source": [
    "xa.skew()"
   ]
  },
  {
   "cell_type": "code",
   "execution_count": 637,
   "id": "cf67622d-5c8c-447e-8a25-630f3bb5ef1f",
   "metadata": {},
   "outputs": [],
   "source": [
    "# Using Log\n",
    "xa['Fare']=np.log(xa['Fare'])"
   ]
  },
  {
   "cell_type": "code",
   "execution_count": 638,
   "id": "9d07c418-a001-49aa-9693-612f94be3d6d",
   "metadata": {},
   "outputs": [
    {
     "data": {
      "text/plain": [
       "Pclass     -0.708375\n",
       "Sex        -0.632203\n",
       "Age         0.276455\n",
       "SibSp       3.751753\n",
       "Parch       2.840412\n",
       "Ticket      0.012485\n",
       "Fare        0.716203\n",
       "Embarked   -1.328443\n",
       "dtype: float64"
      ]
     },
     "execution_count": 638,
     "metadata": {},
     "output_type": "execute_result"
    }
   ],
   "source": [
    "xa.skew()"
   ]
  },
  {
   "cell_type": "code",
   "execution_count": 639,
   "id": "5062651a-be2d-49d3-8155-56e50a7bd691",
   "metadata": {},
   "outputs": [],
   "source": [
    "# Using BoxCox\n",
    "from scipy.stats import boxcox\n",
    "xa['Fare']=boxcox(xa['Fare'],1)"
   ]
  },
  {
   "cell_type": "code",
   "execution_count": 640,
   "id": "04c885d3-4e1f-4e1c-b96d-e768be34e751",
   "metadata": {},
   "outputs": [
    {
     "data": {
      "text/plain": [
       "Pclass     -0.708375\n",
       "Sex        -0.632203\n",
       "Age         0.276455\n",
       "SibSp       3.751753\n",
       "Parch       2.840412\n",
       "Ticket      0.012485\n",
       "Fare        0.716203\n",
       "Embarked   -1.328443\n",
       "dtype: float64"
      ]
     },
     "execution_count": 640,
     "metadata": {},
     "output_type": "execute_result"
    }
   ],
   "source": [
    "xa.skew()"
   ]
  },
  {
   "cell_type": "code",
   "execution_count": 641,
   "id": "9b6c0920-39dd-433c-bbf5-2ab7af7c883d",
   "metadata": {},
   "outputs": [],
   "source": [
    "xa['Fare']=boxcox(xa['Fare'],0)"
   ]
  },
  {
   "cell_type": "code",
   "execution_count": 642,
   "id": "e8b8481d-2906-4cf7-a719-96dff7229015",
   "metadata": {},
   "outputs": [
    {
     "data": {
      "text/plain": [
       "Pclass     -0.708375\n",
       "Sex        -0.632203\n",
       "Age         0.276455\n",
       "SibSp       3.751753\n",
       "Parch       2.840412\n",
       "Ticket      0.012485\n",
       "Fare             NaN\n",
       "Embarked   -1.328443\n",
       "dtype: float64"
      ]
     },
     "execution_count": 642,
     "metadata": {},
     "output_type": "execute_result"
    }
   ],
   "source": [
    "xa.skew()"
   ]
  },
  {
   "cell_type": "code",
   "execution_count": 643,
   "id": "e11d132e-c3ce-45a4-8ad0-56d6a7fd5985",
   "metadata": {},
   "outputs": [],
   "source": [
    "# Removing Skewness from Second copy of data\n",
    "xb['Fare']=np.log(xb['Fare'])"
   ]
  },
  {
   "cell_type": "code",
   "execution_count": 644,
   "id": "82ddafd5-3f81-46f1-8036-74fcce9b79e8",
   "metadata": {},
   "outputs": [
    {
     "data": {
      "text/plain": [
       "Pclass     -0.708375\n",
       "Sex        -0.632203\n",
       "Age         0.276455\n",
       "SibSp       3.751753\n",
       "Parch       2.840412\n",
       "Ticket      0.012485\n",
       "Fare        0.716203\n",
       "Embarked   -1.328443\n",
       "dtype: float64"
      ]
     },
     "execution_count": 644,
     "metadata": {},
     "output_type": "execute_result"
    }
   ],
   "source": [
    "xb.skew()"
   ]
  },
  {
   "cell_type": "code",
   "execution_count": 645,
   "id": "3746fa3c-d124-46c1-8e4f-6baf9792dcff",
   "metadata": {},
   "outputs": [],
   "source": [
    "xb['Fare']=np.sqrt(xb['Fare'])"
   ]
  },
  {
   "cell_type": "code",
   "execution_count": 646,
   "id": "c6b06b62-cdd8-47e5-be56-881dc2bc8063",
   "metadata": {},
   "outputs": [
    {
     "data": {
      "text/plain": [
       "Pclass     -0.708375\n",
       "Sex        -0.632203\n",
       "Age         0.276455\n",
       "SibSp       3.751753\n",
       "Parch       2.840412\n",
       "Ticket      0.012485\n",
       "Fare        0.538265\n",
       "Embarked   -1.328443\n",
       "dtype: float64"
      ]
     },
     "execution_count": 646,
     "metadata": {},
     "output_type": "execute_result"
    }
   ],
   "source": [
    "xb.skew()"
   ]
  },
  {
   "cell_type": "code",
   "execution_count": 647,
   "id": "f6aee11e-eeef-418a-b3dc-fc2d7899e835",
   "metadata": {},
   "outputs": [],
   "source": [
    "#using cuberoot\n",
    "xb['Fare']=np.cbrt(xb['Fare'])"
   ]
  },
  {
   "cell_type": "code",
   "execution_count": 648,
   "id": "a7a652f1-ed1b-4228-ba42-896e1e1a1d7e",
   "metadata": {},
   "outputs": [
    {
     "data": {
      "text/plain": [
       "Pclass     -0.708375\n",
       "Sex        -0.632203\n",
       "Age         0.276455\n",
       "SibSp       3.751753\n",
       "Parch       2.840412\n",
       "Ticket      0.012485\n",
       "Fare        0.425656\n",
       "Embarked   -1.328443\n",
       "dtype: float64"
      ]
     },
     "execution_count": 648,
     "metadata": {},
     "output_type": "execute_result"
    }
   ],
   "source": [
    "xb.skew()"
   ]
  },
  {
   "cell_type": "markdown",
   "id": "d427c973-ab35-4d0f-8edc-caf0cb3fef5f",
   "metadata": {},
   "source": [
    "Going Forward with xb"
   ]
  },
  {
   "cell_type": "markdown",
   "id": "e22855e4-3028-4729-a9dd-ed7f3c413f6f",
   "metadata": {},
   "source": [
    "# Standard Scaler"
   ]
  },
  {
   "cell_type": "code",
   "execution_count": 649,
   "id": "97ff8973-47b6-4c35-b6c5-d461e42a5b8b",
   "metadata": {},
   "outputs": [],
   "source": [
    "from sklearn.preprocessing import StandardScaler"
   ]
  },
  {
   "cell_type": "code",
   "execution_count": 650,
   "id": "f9eb0378-44f7-42c2-b34e-258d82cf19c0",
   "metadata": {},
   "outputs": [
    {
     "data": {
      "text/html": [
       "<div>\n",
       "<style scoped>\n",
       "    .dataframe tbody tr th:only-of-type {\n",
       "        vertical-align: middle;\n",
       "    }\n",
       "\n",
       "    .dataframe tbody tr th {\n",
       "        vertical-align: top;\n",
       "    }\n",
       "\n",
       "    .dataframe thead th {\n",
       "        text-align: right;\n",
       "    }\n",
       "</style>\n",
       "<table border=\"1\" class=\"dataframe\">\n",
       "  <thead>\n",
       "    <tr style=\"text-align: right;\">\n",
       "      <th></th>\n",
       "      <th>Pclass</th>\n",
       "      <th>Sex</th>\n",
       "      <th>Age</th>\n",
       "      <th>SibSp</th>\n",
       "      <th>Parch</th>\n",
       "      <th>Ticket</th>\n",
       "      <th>Fare</th>\n",
       "      <th>Embarked</th>\n",
       "    </tr>\n",
       "  </thead>\n",
       "  <tbody>\n",
       "    <tr>\n",
       "      <th>0</th>\n",
       "      <td>0.801719</td>\n",
       "      <td>0.733053</td>\n",
       "      <td>-0.575070</td>\n",
       "      <td>0.433911</td>\n",
       "      <td>-0.463435</td>\n",
       "      <td>0.939747</td>\n",
       "      <td>-1.159031</td>\n",
       "      <td>0.572159</td>\n",
       "    </tr>\n",
       "    <tr>\n",
       "      <th>1</th>\n",
       "      <td>-1.641615</td>\n",
       "      <td>-1.364158</td>\n",
       "      <td>0.707565</td>\n",
       "      <td>0.433911</td>\n",
       "      <td>-0.463435</td>\n",
       "      <td>1.306235</td>\n",
       "      <td>1.548121</td>\n",
       "      <td>-2.002556</td>\n",
       "    </tr>\n",
       "    <tr>\n",
       "      <th>2</th>\n",
       "      <td>0.801719</td>\n",
       "      <td>-1.364158</td>\n",
       "      <td>-0.254411</td>\n",
       "      <td>-0.471642</td>\n",
       "      <td>-0.463435</td>\n",
       "      <td>1.672722</td>\n",
       "      <td>-1.013101</td>\n",
       "      <td>0.572159</td>\n",
       "    </tr>\n",
       "  </tbody>\n",
       "</table>\n",
       "</div>"
      ],
      "text/plain": [
       "     Pclass       Sex       Age     SibSp     Parch    Ticket      Fare  \\\n",
       "0  0.801719  0.733053 -0.575070  0.433911 -0.463435  0.939747 -1.159031   \n",
       "1 -1.641615 -1.364158  0.707565  0.433911 -0.463435  1.306235  1.548121   \n",
       "2  0.801719 -1.364158 -0.254411 -0.471642 -0.463435  1.672722 -1.013101   \n",
       "\n",
       "   Embarked  \n",
       "0  0.572159  \n",
       "1 -2.002556  \n",
       "2  0.572159  "
      ]
     },
     "execution_count": 650,
     "metadata": {},
     "output_type": "execute_result"
    }
   ],
   "source": [
    "x1=pd.DataFrame(StandardScaler().fit_transform(xb),columns=xb.columns)\n",
    "x1.head(3)"
   ]
  },
  {
   "cell_type": "markdown",
   "id": "a403b83e-30b2-438c-acf3-e12ddc135464",
   "metadata": {},
   "source": [
    "# Multicolinearity"
   ]
  },
  {
   "cell_type": "code",
   "execution_count": 651,
   "id": "8b881035-38f4-46ca-a218-d432ac563d66",
   "metadata": {},
   "outputs": [],
   "source": [
    "from statsmodels.stats.outliers_influence import variance_inflation_factor"
   ]
  },
  {
   "cell_type": "code",
   "execution_count": 652,
   "id": "eb083c2a-b7a4-4be5-82fd-c7195165859f",
   "metadata": {},
   "outputs": [],
   "source": [
    "def MultiColinearity(data):\n",
    "    vif=pd.DataFrame()\n",
    "    vif['Columns']=data.columns\n",
    "    vif['VIF']=[variance_inflation_factor(data.values,i) for i in range(len(data.columns))]\n",
    "    print(vif)"
   ]
  },
  {
   "cell_type": "code",
   "execution_count": 653,
   "id": "b99f06ce-6ce4-4ee5-8c99-356941cb5d8e",
   "metadata": {},
   "outputs": [
    {
     "name": "stdout",
     "output_type": "stream",
     "text": [
      "    Columns       VIF\n",
      "0    Pclass  4.291342\n",
      "1       Sex  1.118403\n",
      "2       Age  1.212287\n",
      "3     SibSp  1.777942\n",
      "4     Parch  1.540338\n",
      "5    Ticket  1.155746\n",
      "6      Fare  4.835831\n",
      "7  Embarked  1.043031\n"
     ]
    }
   ],
   "source": [
    "MultiColinearity(x1)"
   ]
  },
  {
   "cell_type": "markdown",
   "id": "2a9894f7-a42e-4aa8-9e10-3b1c670f4256",
   "metadata": {},
   "source": [
    "No Multicolinearity Present in dataset"
   ]
  },
  {
   "cell_type": "markdown",
   "id": "a0dbe225-2888-48f5-a2be-5b9504d81fdc",
   "metadata": {},
   "source": [
    "# Class Imbalance"
   ]
  },
  {
   "cell_type": "code",
   "execution_count": 654,
   "id": "8dcf1526-ff4e-4d0b-9f84-5ee45a0269f8",
   "metadata": {},
   "outputs": [
    {
     "data": {
      "text/plain": [
       "0    537\n",
       "1    327\n",
       "Name: Survived, dtype: int64"
      ]
     },
     "execution_count": 654,
     "metadata": {},
     "output_type": "execute_result"
    }
   ],
   "source": [
    "y.value_counts()"
   ]
  },
  {
   "cell_type": "markdown",
   "id": "449c7e1b-3773-47c7-b403-66afbb450420",
   "metadata": {},
   "source": [
    "Here we can See that the differnce between class '0' and class '1' is 210. Hence Considering it as Class Imbalance problem."
   ]
  },
  {
   "cell_type": "code",
   "execution_count": 655,
   "id": "c6b06f30-5d96-4bca-aea7-bd38467a1ca6",
   "metadata": {},
   "outputs": [],
   "source": [
    "# Importing Smote\n",
    "from imblearn.over_sampling import SMOTE"
   ]
  },
  {
   "cell_type": "code",
   "execution_count": 656,
   "id": "6830fca8-23ec-4e5d-9904-ea7698c1e6e0",
   "metadata": {},
   "outputs": [],
   "source": [
    "smt=SMOTE()"
   ]
  },
  {
   "cell_type": "code",
   "execution_count": 657,
   "id": "392e54dc-c505-4bbb-b57b-738ede1b4da4",
   "metadata": {},
   "outputs": [],
   "source": [
    "x2,y2=smt.fit_resample(x1,y)"
   ]
  },
  {
   "cell_type": "code",
   "execution_count": 658,
   "id": "0b8348f0-c2dc-4ea9-9b74-562805c78f8a",
   "metadata": {},
   "outputs": [
    {
     "data": {
      "text/plain": [
       "0    537\n",
       "1    537\n",
       "Name: Survived, dtype: int64"
      ]
     },
     "execution_count": 658,
     "metadata": {},
     "output_type": "execute_result"
    }
   ],
   "source": [
    "y2.value_counts()"
   ]
  },
  {
   "cell_type": "markdown",
   "id": "35bfa9ad-3907-40a7-91bf-bbdc49d02ee6",
   "metadata": {},
   "source": [
    "Class Imbalance problem Rectified."
   ]
  },
  {
   "cell_type": "markdown",
   "id": "6619060f-7a8f-42e1-8e83-9e267b7437db",
   "metadata": {},
   "source": [
    "# Modeling"
   ]
  },
  {
   "cell_type": "code",
   "execution_count": 563,
   "id": "b3138c89-33ac-4f49-a6e3-4a195aef23fb",
   "metadata": {},
   "outputs": [],
   "source": [
    "from sklearn.ensemble import GradientBoostingClassifier\n",
    "from sklearn.model_selection import train_test_split,cross_val_score\n",
    "from sklearn.metrics import accuracy_score"
   ]
  },
  {
   "cell_type": "code",
   "execution_count": 564,
   "id": "af2a54ae-996f-4795-8faa-48c0bb307189",
   "metadata": {},
   "outputs": [],
   "source": [
    "# Creating Function to find best random state\n",
    "def Random_state(x,y):\n",
    "    rs=0\n",
    "    acc=0\n",
    "    for i in range(1,301):\n",
    "       gbc=GradientBoostingClassifier()\n",
    "       x_train,x_test,y_train,y_test=train_test_split(x,y,test_size=0.30,random_state=i)\n",
    "       gbc.fit(x_train,y_train)\n",
    "       pred=gbc.predict(x_test)\n",
    "       acs=accuracy_score(y_test,pred)\n",
    "       if acs>acc:\n",
    "           acc=+acs\n",
    "           rs=+i\n",
    "    print('Best accuracy {} on random state {}'.format(acc,rs))"
   ]
  },
  {
   "cell_type": "code",
   "execution_count": 769,
   "id": "47d3bfdb-fb46-42be-b792-13924052b63c",
   "metadata": {},
   "outputs": [
    {
     "name": "stdout",
     "output_type": "stream",
     "text": [
      "Best accuracy 0.8947368421052632 on random state 56\n"
     ]
    }
   ],
   "source": [
    "Random_state(x2,y2)"
   ]
  },
  {
   "cell_type": "markdown",
   "id": "6c48d0b7-69d4-4396-94d1-ea7f8d2a7ff7",
   "metadata": {},
   "source": [
    "Spliting Train Test Data"
   ]
  },
  {
   "cell_type": "code",
   "execution_count": 770,
   "id": "45adf051-5616-4f14-81ff-fc2cfc19b977",
   "metadata": {},
   "outputs": [],
   "source": [
    "xtrain,xtest,ytrain,ytest=train_test_split(x3,y3,test_size=0.30,random_state=56)"
   ]
  },
  {
   "cell_type": "code",
   "execution_count": 771,
   "id": "6d17f881-81ba-42c8-9faf-d83fccdac4b6",
   "metadata": {},
   "outputs": [
    {
     "name": "stdout",
     "output_type": "stream",
     "text": [
      "(751, 8)\n",
      "(323, 8)\n",
      "(751,)\n",
      "(323,)\n"
     ]
    }
   ],
   "source": [
    "print(xtrain.shape)\n",
    "print(xtest.shape)\n",
    "print(ytrain.shape)\n",
    "print(ytest.shape)"
   ]
  },
  {
   "cell_type": "code",
   "execution_count": 772,
   "id": "2125b832-16ce-4b0a-80d8-a44dd3cc7f08",
   "metadata": {},
   "outputs": [],
   "source": [
    "# Importing classification metrics\n",
    "from sklearn.metrics import classification_report, confusion_matrix"
   ]
  },
  {
   "cell_type": "code",
   "execution_count": 773,
   "id": "13eaddae-2e91-47d8-a9ab-7ecb747d80c3",
   "metadata": {},
   "outputs": [],
   "source": [
    "# Importing Models\n",
    "from sklearn.tree import DecisionTreeClassifier\n",
    "from sklearn.neighbors import KNeighborsClassifier\n",
    "from sklearn.svm import SVC\n",
    "from sklearn.ensemble import RandomForestClassifier\n",
    "from sklearn.naive_bayes import GaussianNB\n",
    "from sklearn.ensemble import AdaBoostClassifier, GradientBoostingClassifier\n",
    "from sklearn.ensemble import ExtraTreesClassifier\n",
    "from sklearn.linear_model import LogisticRegression\n",
    "from sklearn.ensemble import BaggingClassifier"
   ]
  },
  {
   "cell_type": "code",
   "execution_count": 774,
   "id": "4693d4c5-7946-419f-8158-3326304237c8",
   "metadata": {},
   "outputs": [],
   "source": [
    "# Creating Variables for models\n",
    "dtc=DecisionTreeClassifier()\n",
    "knn=KNeighborsClassifier()\n",
    "svc=SVC()\n",
    "rfc=RandomForestClassifier()\n",
    "gb=GaussianNB()\n",
    "adc=AdaBoostClassifier()\n",
    "gdc=GradientBoostingClassifier()\n",
    "etc=ExtraTreesClassifier()\n",
    "lr=LogisticRegression()\n",
    "bgc=BaggingClassifier()"
   ]
  },
  {
   "cell_type": "code",
   "execution_count": 775,
   "id": "d908f7e2-81e8-42dc-af01-c31f4a324bce",
   "metadata": {},
   "outputs": [],
   "source": [
    "# creating list with classification models\n",
    "models=[dtc,knn,svc,rfc,gb,adc,gdc,etc,lr,bgc]"
   ]
  },
  {
   "cell_type": "code",
   "execution_count": 776,
   "id": "775af9f6-885c-4d96-8709-77c6d130165f",
   "metadata": {},
   "outputs": [
    {
     "name": "stdout",
     "output_type": "stream",
     "text": [
      "DecisionTreeClassifier()\n",
      "Accuracy_score 0.8018575851393189\n",
      "[[115  35]\n",
      " [ 29 144]]\n",
      "              precision    recall  f1-score   support\n",
      "\n",
      "           0       0.80      0.77      0.78       150\n",
      "           1       0.80      0.83      0.82       173\n",
      "\n",
      "    accuracy                           0.80       323\n",
      "   macro avg       0.80      0.80      0.80       323\n",
      "weighted avg       0.80      0.80      0.80       323\n",
      "\n",
      "CrossValScore\n",
      "[0.76744186 0.78604651 0.8        0.8744186  0.86448598]\n",
      "0.8184785916105195\n",
      "difference between accuracy score and cv mean score for DecisionTreeClassifier() is -1.66\n",
      "****************************************************************************************************\n",
      "\n",
      "\n",
      "KNeighborsClassifier()\n",
      "Accuracy_score 0.8111455108359134\n",
      "[[129  21]\n",
      " [ 40 133]]\n",
      "              precision    recall  f1-score   support\n",
      "\n",
      "           0       0.76      0.86      0.81       150\n",
      "           1       0.86      0.77      0.81       173\n",
      "\n",
      "    accuracy                           0.81       323\n",
      "   macro avg       0.81      0.81      0.81       323\n",
      "weighted avg       0.82      0.81      0.81       323\n",
      "\n",
      "CrossValScore\n",
      "[0.77209302 0.8372093  0.8        0.86046512 0.85981308]\n",
      "0.825916105194523\n",
      "difference between accuracy score and cv mean score for KNeighborsClassifier() is -1.48\n",
      "****************************************************************************************************\n",
      "\n",
      "\n",
      "SVC()\n",
      "Accuracy_score 0.8173374613003096\n",
      "[[135  15]\n",
      " [ 44 129]]\n",
      "              precision    recall  f1-score   support\n",
      "\n",
      "           0       0.75      0.90      0.82       150\n",
      "           1       0.90      0.75      0.81       173\n",
      "\n",
      "    accuracy                           0.82       323\n",
      "   macro avg       0.83      0.82      0.82       323\n",
      "weighted avg       0.83      0.82      0.82       323\n",
      "\n",
      "CrossValScore\n",
      "[0.79534884 0.82325581 0.79069767 0.82325581 0.85981308]\n",
      "0.8184742447294067\n",
      "difference between accuracy score and cv mean score for SVC() is -0.11\n",
      "****************************************************************************************************\n",
      "\n",
      "\n",
      "RandomForestClassifier()\n",
      "Accuracy_score 0.8885448916408669\n",
      "[[139  11]\n",
      " [ 25 148]]\n",
      "              precision    recall  f1-score   support\n",
      "\n",
      "           0       0.85      0.93      0.89       150\n",
      "           1       0.93      0.86      0.89       173\n",
      "\n",
      "    accuracy                           0.89       323\n",
      "   macro avg       0.89      0.89      0.89       323\n",
      "weighted avg       0.89      0.89      0.89       323\n",
      "\n",
      "CrossValScore\n",
      "[0.80465116 0.83255814 0.81860465 0.88837209 0.89719626]\n",
      "0.848276461638774\n",
      "difference between accuracy score and cv mean score for RandomForestClassifier() is 4.03\n",
      "****************************************************************************************************\n",
      "\n",
      "\n",
      "GaussianNB()\n",
      "Accuracy_score 0.826625386996904\n",
      "[[126  24]\n",
      " [ 32 141]]\n",
      "              precision    recall  f1-score   support\n",
      "\n",
      "           0       0.80      0.84      0.82       150\n",
      "           1       0.85      0.82      0.83       173\n",
      "\n",
      "    accuracy                           0.83       323\n",
      "   macro avg       0.83      0.83      0.83       323\n",
      "weighted avg       0.83      0.83      0.83       323\n",
      "\n",
      "CrossValScore\n",
      "[0.73953488 0.77209302 0.77209302 0.7627907  0.79906542]\n",
      "0.7691154096935449\n",
      "difference between accuracy score and cv mean score for GaussianNB() is 5.75\n",
      "****************************************************************************************************\n",
      "\n",
      "\n",
      "AdaBoostClassifier()\n",
      "Accuracy_score 0.8359133126934984\n",
      "[[129  21]\n",
      " [ 32 141]]\n",
      "              precision    recall  f1-score   support\n",
      "\n",
      "           0       0.80      0.86      0.83       150\n",
      "           1       0.87      0.82      0.84       173\n",
      "\n",
      "    accuracy                           0.84       323\n",
      "   macro avg       0.84      0.84      0.84       323\n",
      "weighted avg       0.84      0.84      0.84       323\n",
      "\n",
      "CrossValScore\n",
      "[0.76744186 0.83255814 0.77674419 0.80930233 0.8317757 ]\n",
      "0.8035644425124973\n",
      "difference between accuracy score and cv mean score for AdaBoostClassifier() is 3.23\n",
      "****************************************************************************************************\n",
      "\n",
      "\n",
      "GradientBoostingClassifier()\n",
      "Accuracy_score 0.8792569659442725\n",
      "[[139  11]\n",
      " [ 28 145]]\n",
      "              precision    recall  f1-score   support\n",
      "\n",
      "           0       0.83      0.93      0.88       150\n",
      "           1       0.93      0.84      0.88       173\n",
      "\n",
      "    accuracy                           0.88       323\n",
      "   macro avg       0.88      0.88      0.88       323\n",
      "weighted avg       0.88      0.88      0.88       323\n",
      "\n",
      "CrossValScore\n",
      "[0.80930233 0.85581395 0.81860465 0.85116279 0.87850467]\n",
      "0.8426776787654859\n",
      "difference between accuracy score and cv mean score for GradientBoostingClassifier() is 3.66\n",
      "****************************************************************************************************\n",
      "\n",
      "\n",
      "ExtraTreesClassifier()\n",
      "Accuracy_score 0.8699690402476781\n",
      "[[136  14]\n",
      " [ 28 145]]\n",
      "              precision    recall  f1-score   support\n",
      "\n",
      "           0       0.83      0.91      0.87       150\n",
      "           1       0.91      0.84      0.87       173\n",
      "\n",
      "    accuracy                           0.87       323\n",
      "   macro avg       0.87      0.87      0.87       323\n",
      "weighted avg       0.87      0.87      0.87       323\n",
      "\n",
      "CrossValScore\n",
      "[0.77674419 0.81860465 0.83255814 0.84651163 0.88785047]\n",
      "0.8324538143881763\n",
      "difference between accuracy score and cv mean score for ExtraTreesClassifier() is 3.75\n",
      "****************************************************************************************************\n",
      "\n",
      "\n",
      "LogisticRegression()\n",
      "Accuracy_score 0.8204334365325078\n",
      "[[132  18]\n",
      " [ 40 133]]\n",
      "              precision    recall  f1-score   support\n",
      "\n",
      "           0       0.77      0.88      0.82       150\n",
      "           1       0.88      0.77      0.82       173\n",
      "\n",
      "    accuracy                           0.82       323\n",
      "   macro avg       0.82      0.82      0.82       323\n",
      "weighted avg       0.83      0.82      0.82       323\n",
      "\n",
      "CrossValScore\n",
      "[0.77209302 0.78604651 0.75813953 0.78604651 0.78971963]\n",
      "0.7784090415127146\n",
      "difference between accuracy score and cv mean score for LogisticRegression() is 4.2\n",
      "****************************************************************************************************\n",
      "\n",
      "\n",
      "BaggingClassifier()\n",
      "Accuracy_score 0.8575851393188855\n",
      "[[139  11]\n",
      " [ 35 138]]\n",
      "              precision    recall  f1-score   support\n",
      "\n",
      "           0       0.80      0.93      0.86       150\n",
      "           1       0.93      0.80      0.86       173\n",
      "\n",
      "    accuracy                           0.86       323\n",
      "   macro avg       0.86      0.86      0.86       323\n",
      "weighted avg       0.87      0.86      0.86       323\n",
      "\n",
      "CrossValScore\n",
      "[0.81860465 0.83255814 0.8372093  0.86976744 0.90186916]\n",
      "0.8520017387524451\n",
      "difference between accuracy score and cv mean score for BaggingClassifier() is 0.56\n",
      "****************************************************************************************************\n",
      "\n",
      "\n"
     ]
    }
   ],
   "source": [
    "# Iterating Each model\n",
    "for m in models:\n",
    "    m.fit(xtrain,ytrain)\n",
    "    print(m)\n",
    "    print('Accuracy_score',accuracy_score(ytest,m.predict(xtest)))\n",
    "    print(confusion_matrix(ytest,m.predict(xtest)))\n",
    "    print(classification_report(ytest,m.predict(xtest)))\n",
    "    print('CrossValScore')\n",
    "    score=cross_val_score(m,x2,y2)\n",
    "    print(score)\n",
    "    print(score.mean())\n",
    "    print(\"difference between accuracy score and cv mean score for {} is\".format(m),round(accuracy_score(ytest,m.predict(xtest))*100-score.mean()*100,2))\n",
    "    print('*'*100)\n",
    "    print('\\n')"
   ]
  },
  {
   "cell_type": "markdown",
   "id": "3d328de0-6e03-4494-8ed1-e74bb84c69a2",
   "metadata": {},
   "source": [
    "Conclusion:-BaggingClassifier has 0.56 difference between Accuracy_score and cross val score. also giving 85 % accuracy. so we can consider it as the best performing model. "
   ]
  },
  {
   "cell_type": "markdown",
   "id": "7c7e7e27-eb2f-47e0-8b90-83990affecd7",
   "metadata": {},
   "source": [
    "# Model Performance without removing Outliers"
   ]
  },
  {
   "cell_type": "code",
   "execution_count": 777,
   "id": "a08d5661-b27c-4903-b07c-82b5c0c0ee95",
   "metadata": {},
   "outputs": [
    {
     "data": {
      "text/plain": [
       "(891, 9)"
      ]
     },
     "execution_count": 777,
     "metadata": {},
     "output_type": "execute_result"
    }
   ],
   "source": [
    "do.shape"
   ]
  },
  {
   "cell_type": "code",
   "execution_count": 778,
   "id": "2f3bed8b-dbef-42c9-8fc6-dc0dc7b205a2",
   "metadata": {},
   "outputs": [],
   "source": [
    "#Seperating Data\n",
    "input=do.drop('Survived',axis=1)\n",
    "target=do['Survived']"
   ]
  },
  {
   "cell_type": "code",
   "execution_count": 779,
   "id": "ad160a3a-9b77-47ed-9f1c-aa5832fb7c7d",
   "metadata": {},
   "outputs": [
    {
     "name": "stdout",
     "output_type": "stream",
     "text": [
      "(891, 8)\n",
      "(891,)\n"
     ]
    }
   ],
   "source": [
    "print(input.shape)\n",
    "print(target.shape)"
   ]
  },
  {
   "cell_type": "code",
   "execution_count": 780,
   "id": "0f271942-044d-42a7-8e4e-dbd300e47dd5",
   "metadata": {},
   "outputs": [
    {
     "data": {
      "text/plain": [
       "Pclass     -0.630548\n",
       "Sex        -0.618921\n",
       "Age         0.468700\n",
       "SibSp       3.695352\n",
       "Parch       2.749117\n",
       "Ticket      0.000246\n",
       "Fare        4.786668\n",
       "Embarked   -1.264823\n",
       "dtype: float64"
      ]
     },
     "execution_count": 780,
     "metadata": {},
     "output_type": "execute_result"
    }
   ],
   "source": [
    "# Removing Skewness\n",
    "input.skew()"
   ]
  },
  {
   "cell_type": "code",
   "execution_count": 781,
   "id": "0ae151d4-360f-4a67-af39-0d1a7e9f61d0",
   "metadata": {},
   "outputs": [],
   "source": [
    "input1=input.copy()"
   ]
  },
  {
   "cell_type": "code",
   "execution_count": 782,
   "id": "da327af3-7039-40de-b711-0d321a33e9b6",
   "metadata": {},
   "outputs": [],
   "source": [
    "input1['Fare']=np.log(input1['Fare'])"
   ]
  },
  {
   "cell_type": "code",
   "execution_count": 783,
   "id": "60fb0608-8012-44fe-b88e-80e42d8e9d3c",
   "metadata": {},
   "outputs": [
    {
     "data": {
      "text/plain": [
       "Pclass     -0.630548\n",
       "Sex        -0.618921\n",
       "Age         0.468700\n",
       "SibSp       3.695352\n",
       "Parch       2.749117\n",
       "Ticket      0.000246\n",
       "Fare        0.894909\n",
       "Embarked   -1.264823\n",
       "dtype: float64"
      ]
     },
     "execution_count": 783,
     "metadata": {},
     "output_type": "execute_result"
    }
   ],
   "source": [
    "input1.skew()"
   ]
  },
  {
   "cell_type": "code",
   "execution_count": 784,
   "id": "bc6266c8-5673-43c9-919b-34bc3e8d706f",
   "metadata": {},
   "outputs": [],
   "source": [
    "# using cuberoot\n",
    "input1['Fare']=np.cbrt(input1['Fare'])"
   ]
  },
  {
   "cell_type": "code",
   "execution_count": 785,
   "id": "ad44b3b1-c94e-4ba7-89fa-2d09b626aa86",
   "metadata": {},
   "outputs": [
    {
     "data": {
      "text/plain": [
       "Pclass     -0.630548\n",
       "Sex        -0.618921\n",
       "Age         0.468700\n",
       "SibSp       3.695352\n",
       "Parch       2.749117\n",
       "Ticket      0.000246\n",
       "Fare        0.580066\n",
       "Embarked   -1.264823\n",
       "dtype: float64"
      ]
     },
     "execution_count": 785,
     "metadata": {},
     "output_type": "execute_result"
    }
   ],
   "source": [
    "input1.skew()"
   ]
  },
  {
   "cell_type": "code",
   "execution_count": 786,
   "id": "d1b7e5bb-d94a-4c44-9163-c429db5d1145",
   "metadata": {},
   "outputs": [],
   "source": [
    "# using square root\n",
    "input1['Fare']=np.sqrt(input1['Fare'])"
   ]
  },
  {
   "cell_type": "code",
   "execution_count": 787,
   "id": "81c86fe2-c194-408e-be10-56d5af59540c",
   "metadata": {},
   "outputs": [
    {
     "data": {
      "text/plain": [
       "Pclass     -0.630548\n",
       "Sex        -0.618921\n",
       "Age         0.468700\n",
       "SibSp       3.695352\n",
       "Parch       2.749117\n",
       "Ticket      0.000246\n",
       "Fare        0.509297\n",
       "Embarked   -1.264823\n",
       "dtype: float64"
      ]
     },
     "execution_count": 787,
     "metadata": {},
     "output_type": "execute_result"
    }
   ],
   "source": [
    "input1.skew()"
   ]
  },
  {
   "cell_type": "code",
   "execution_count": 788,
   "id": "520acb68-61e1-4e38-8b61-8dcd2c00f4ae",
   "metadata": {},
   "outputs": [],
   "source": [
    "# using boxcox\n",
    "input1['Fare']=boxcox(input1['Fare'],0)"
   ]
  },
  {
   "cell_type": "code",
   "execution_count": 736,
   "id": "a481d860-22ee-41b2-b183-3f13b26d3be7",
   "metadata": {},
   "outputs": [
    {
     "data": {
      "text/plain": [
       "Pclass     -0.630548\n",
       "Sex        -0.618921\n",
       "Age         0.468700\n",
       "SibSp       3.695352\n",
       "Parch       2.749117\n",
       "Ticket      0.000246\n",
       "Fare        0.456977\n",
       "Embarked   -1.264823\n",
       "dtype: float64"
      ]
     },
     "execution_count": 736,
     "metadata": {},
     "output_type": "execute_result"
    }
   ],
   "source": [
    "input1.skew()"
   ]
  },
  {
   "cell_type": "code",
   "execution_count": 789,
   "id": "005e6148-04c4-41cc-a10a-c372bfb7c94f",
   "metadata": {},
   "outputs": [
    {
     "data": {
      "text/html": [
       "<div>\n",
       "<style scoped>\n",
       "    .dataframe tbody tr th:only-of-type {\n",
       "        vertical-align: middle;\n",
       "    }\n",
       "\n",
       "    .dataframe tbody tr th {\n",
       "        vertical-align: top;\n",
       "    }\n",
       "\n",
       "    .dataframe thead th {\n",
       "        text-align: right;\n",
       "    }\n",
       "</style>\n",
       "<table border=\"1\" class=\"dataframe\">\n",
       "  <thead>\n",
       "    <tr style=\"text-align: right;\">\n",
       "      <th></th>\n",
       "      <th>Pclass</th>\n",
       "      <th>Sex</th>\n",
       "      <th>Age</th>\n",
       "      <th>SibSp</th>\n",
       "      <th>Parch</th>\n",
       "      <th>Ticket</th>\n",
       "      <th>Fare</th>\n",
       "      <th>Embarked</th>\n",
       "    </tr>\n",
       "  </thead>\n",
       "  <tbody>\n",
       "    <tr>\n",
       "      <th>0</th>\n",
       "      <td>0.827377</td>\n",
       "      <td>0.737695</td>\n",
       "      <td>-0.581433</td>\n",
       "      <td>0.432793</td>\n",
       "      <td>-0.473674</td>\n",
       "      <td>0.918966</td>\n",
       "      <td>-1.171519</td>\n",
       "      <td>0.585954</td>\n",
       "    </tr>\n",
       "    <tr>\n",
       "      <th>1</th>\n",
       "      <td>-1.566107</td>\n",
       "      <td>-1.355574</td>\n",
       "      <td>0.650386</td>\n",
       "      <td>0.432793</td>\n",
       "      <td>-0.473674</td>\n",
       "      <td>1.282625</td>\n",
       "      <td>1.395802</td>\n",
       "      <td>-1.942303</td>\n",
       "    </tr>\n",
       "    <tr>\n",
       "      <th>2</th>\n",
       "      <td>0.827377</td>\n",
       "      <td>-1.355574</td>\n",
       "      <td>-0.273478</td>\n",
       "      <td>-0.474545</td>\n",
       "      <td>-0.473674</td>\n",
       "      <td>1.646283</td>\n",
       "      <td>-1.024429</td>\n",
       "      <td>0.585954</td>\n",
       "    </tr>\n",
       "  </tbody>\n",
       "</table>\n",
       "</div>"
      ],
      "text/plain": [
       "     Pclass       Sex       Age     SibSp     Parch    Ticket      Fare  \\\n",
       "0  0.827377  0.737695 -0.581433  0.432793 -0.473674  0.918966 -1.171519   \n",
       "1 -1.566107 -1.355574  0.650386  0.432793 -0.473674  1.282625  1.395802   \n",
       "2  0.827377 -1.355574 -0.273478 -0.474545 -0.473674  1.646283 -1.024429   \n",
       "\n",
       "   Embarked  \n",
       "0  0.585954  \n",
       "1 -1.942303  \n",
       "2  0.585954  "
      ]
     },
     "execution_count": 789,
     "metadata": {},
     "output_type": "execute_result"
    }
   ],
   "source": [
    "# Scaling input data\n",
    "xo=pd.DataFrame(StandardScaler().fit_transform(input1),columns=input1.columns)\n",
    "xo.head(3)"
   ]
  },
  {
   "cell_type": "code",
   "execution_count": 790,
   "id": "092f9f8a-c375-4dc3-9ba3-75de7c713aea",
   "metadata": {},
   "outputs": [
    {
     "name": "stdout",
     "output_type": "stream",
     "text": [
      "    Columns       VIF\n",
      "0    Pclass  4.432144\n",
      "1       Sex  1.119265\n",
      "2       Age  1.215173\n",
      "3     SibSp  1.720380\n",
      "4     Parch  1.539787\n",
      "5    Ticket  1.130091\n",
      "6      Fare  4.977123\n",
      "7  Embarked  1.062530\n"
     ]
    }
   ],
   "source": [
    "# Checking Multicolinearity\n",
    "MultiColinearity(xo)"
   ]
  },
  {
   "cell_type": "code",
   "execution_count": 791,
   "id": "f79b22b9-7008-470b-9e99-f5d912ba6b7b",
   "metadata": {},
   "outputs": [
    {
     "data": {
      "text/plain": [
       "0    549\n",
       "1    342\n",
       "Name: Survived, dtype: int64"
      ]
     },
     "execution_count": 791,
     "metadata": {},
     "output_type": "execute_result"
    }
   ],
   "source": [
    "target.value_counts()"
   ]
  },
  {
   "cell_type": "markdown",
   "id": "244a8f05-40dd-46c2-954a-cf8957ef4719",
   "metadata": {},
   "source": [
    "RectifyingClass Imbalance"
   ]
  },
  {
   "cell_type": "code",
   "execution_count": 792,
   "id": "6caab2c2-0507-4396-b45a-676d2d1b2613",
   "metadata": {},
   "outputs": [],
   "source": [
    "# Oversampling\n",
    "xo1,yo1=smt.fit_resample(xo,target)"
   ]
  },
  {
   "cell_type": "code",
   "execution_count": 793,
   "id": "3914d529-e188-4864-8b2e-2a6f7a8fa7a0",
   "metadata": {},
   "outputs": [
    {
     "data": {
      "text/plain": [
       "0    549\n",
       "1    549\n",
       "Name: Survived, dtype: int64"
      ]
     },
     "execution_count": 793,
     "metadata": {},
     "output_type": "execute_result"
    }
   ],
   "source": [
    "yo1.value_counts()"
   ]
  },
  {
   "cell_type": "code",
   "execution_count": null,
   "id": "4349cccc-92b6-47b6-a9d2-10ce8c8b4a5e",
   "metadata": {},
   "outputs": [],
   "source": []
  },
  {
   "cell_type": "markdown",
   "id": "944cac4f-ffbb-4df8-b5a9-be67fffa57f4",
   "metadata": {},
   "source": [
    "Findind Best Random State"
   ]
  },
  {
   "cell_type": "code",
   "execution_count": 794,
   "id": "bfa01265-db92-4af4-9ec3-23569be6d259",
   "metadata": {},
   "outputs": [
    {
     "name": "stdout",
     "output_type": "stream",
     "text": [
      "Best accuracy 0.8818181818181818 on random state 266\n"
     ]
    }
   ],
   "source": [
    "# Best random state\n",
    "Random_state(xo1,yo1)"
   ]
  },
  {
   "cell_type": "code",
   "execution_count": null,
   "id": "19560d44-4237-4f90-9d88-91280d824c71",
   "metadata": {},
   "outputs": [],
   "source": []
  },
  {
   "cell_type": "markdown",
   "id": "dcb6db0d-b196-4847-ba1e-82aa5628d45b",
   "metadata": {},
   "source": [
    "Spliting Train Test Data"
   ]
  },
  {
   "cell_type": "code",
   "execution_count": 795,
   "id": "894032ed-6911-4e2b-839a-4a21c13c002f",
   "metadata": {},
   "outputs": [],
   "source": [
    "xotrain,xotest,yotrain,yotest=train_test_split(xo1,yo1,test_size=0.30,random_state=266)"
   ]
  },
  {
   "cell_type": "code",
   "execution_count": 796,
   "id": "28c54347-e9ce-46a0-88c1-9829b64c7658",
   "metadata": {},
   "outputs": [
    {
     "name": "stdout",
     "output_type": "stream",
     "text": [
      "(768, 8)\n",
      "(330, 8)\n",
      "(768,)\n",
      "(330,)\n"
     ]
    }
   ],
   "source": [
    "print(xotrain.shape)\n",
    "print(xotest.shape)\n",
    "print(yotrain.shape)\n",
    "print(yotest.shape)"
   ]
  },
  {
   "cell_type": "code",
   "execution_count": null,
   "id": "e9261385-f507-4e84-9e18-54c73d6550f7",
   "metadata": {},
   "outputs": [],
   "source": []
  },
  {
   "cell_type": "markdown",
   "id": "769fd0f2-6aa8-4f1f-a3c1-96e0ba81f134",
   "metadata": {},
   "source": [
    "Modeling"
   ]
  },
  {
   "cell_type": "code",
   "execution_count": 797,
   "id": "be925353-7aed-4c9a-beb5-80ad6ed0f5c1",
   "metadata": {},
   "outputs": [],
   "source": [
    "# Creating Variables for models\n",
    "dtco=DecisionTreeClassifier()\n",
    "knno=KNeighborsClassifier()\n",
    "svco=SVC()\n",
    "rfco=RandomForestClassifier()\n",
    "gbo=GaussianNB()\n",
    "adco=AdaBoostClassifier()\n",
    "gdco=GradientBoostingClassifier()\n",
    "etco=ExtraTreesClassifier()\n",
    "lro=LogisticRegression()\n",
    "bgco=BaggingClassifier()"
   ]
  },
  {
   "cell_type": "code",
   "execution_count": 798,
   "id": "5d9a6660-73a7-4921-bd6a-9a25ca1b7692",
   "metadata": {},
   "outputs": [],
   "source": [
    "# creating list with classification models\n",
    "o_models=[dtc,knn,svc,rfc,gb,adc,gdc,etc,lr,bgc]"
   ]
  },
  {
   "cell_type": "code",
   "execution_count": null,
   "id": "2cd84842-9209-454c-8541-79d5e4fcae0f",
   "metadata": {},
   "outputs": [],
   "source": []
  },
  {
   "cell_type": "markdown",
   "id": "f010636a-4b91-4178-9d2f-828fbadcc714",
   "metadata": {},
   "source": [
    "Checking Every Model's Performance"
   ]
  },
  {
   "cell_type": "code",
   "execution_count": 800,
   "id": "b18fe9bc-7d27-4706-9c67-55cc51a2c448",
   "metadata": {},
   "outputs": [
    {
     "name": "stdout",
     "output_type": "stream",
     "text": [
      "DecisionTreeClassifier()\n",
      "Accuracy_score 0.8242424242424242\n",
      "[[123  29]\n",
      " [ 29 149]]\n",
      "              precision    recall  f1-score   support\n",
      "\n",
      "           0       0.81      0.81      0.81       152\n",
      "           1       0.84      0.84      0.84       178\n",
      "\n",
      "    accuracy                           0.82       330\n",
      "   macro avg       0.82      0.82      0.82       330\n",
      "weighted avg       0.82      0.82      0.82       330\n",
      "\n",
      "CrossValScore\n",
      "[0.76363636 0.80454545 0.78181818 0.8173516  0.84018265]\n",
      "0.8015068493150685\n",
      "difference between accuracy score and cv mean score for DecisionTreeClassifier() is 2.27\n",
      "****************************************************************************************************\n",
      "\n",
      "\n",
      "KNeighborsClassifier()\n",
      "Accuracy_score 0.8303030303030303\n",
      "[[129  23]\n",
      " [ 33 145]]\n",
      "              precision    recall  f1-score   support\n",
      "\n",
      "           0       0.80      0.85      0.82       152\n",
      "           1       0.86      0.81      0.84       178\n",
      "\n",
      "    accuracy                           0.83       330\n",
      "   macro avg       0.83      0.83      0.83       330\n",
      "weighted avg       0.83      0.83      0.83       330\n",
      "\n",
      "CrossValScore\n",
      "[0.76818182 0.80909091 0.79545455 0.84931507 0.80365297]\n",
      "0.8051390618513906\n",
      "difference between accuracy score and cv mean score for KNeighborsClassifier() is 2.52\n",
      "****************************************************************************************************\n",
      "\n",
      "\n",
      "SVC()\n",
      "Accuracy_score 0.8272727272727273\n",
      "[[139  13]\n",
      " [ 44 134]]\n",
      "              precision    recall  f1-score   support\n",
      "\n",
      "           0       0.76      0.91      0.83       152\n",
      "           1       0.91      0.75      0.82       178\n",
      "\n",
      "    accuracy                           0.83       330\n",
      "   macro avg       0.84      0.83      0.83       330\n",
      "weighted avg       0.84      0.83      0.83       330\n",
      "\n",
      "CrossValScore\n",
      "[0.79090909 0.80454545 0.78181818 0.83561644 0.79452055]\n",
      "0.8014819427148193\n",
      "difference between accuracy score and cv mean score for SVC() is 2.58\n",
      "****************************************************************************************************\n",
      "\n",
      "\n",
      "RandomForestClassifier()\n",
      "Accuracy_score 0.8666666666666667\n",
      "[[136  16]\n",
      " [ 28 150]]\n",
      "              precision    recall  f1-score   support\n",
      "\n",
      "           0       0.83      0.89      0.86       152\n",
      "           1       0.90      0.84      0.87       178\n",
      "\n",
      "    accuracy                           0.87       330\n",
      "   macro avg       0.87      0.87      0.87       330\n",
      "weighted avg       0.87      0.87      0.87       330\n",
      "\n",
      "CrossValScore\n",
      "[0.79545455 0.84090909 0.81363636 0.89954338 0.84474886]\n",
      "0.8388584474885844\n",
      "difference between accuracy score and cv mean score for RandomForestClassifier() is 2.78\n",
      "****************************************************************************************************\n",
      "\n",
      "\n",
      "GaussianNB()\n",
      "Accuracy_score 0.8272727272727273\n",
      "[[125  27]\n",
      " [ 30 148]]\n",
      "              precision    recall  f1-score   support\n",
      "\n",
      "           0       0.81      0.82      0.81       152\n",
      "           1       0.85      0.83      0.84       178\n",
      "\n",
      "    accuracy                           0.83       330\n",
      "   macro avg       0.83      0.83      0.83       330\n",
      "weighted avg       0.83      0.83      0.83       330\n",
      "\n",
      "CrossValScore\n",
      "[0.74090909 0.77727273 0.75909091 0.77625571 0.7716895 ]\n",
      "0.7650435865504359\n",
      "difference between accuracy score and cv mean score for GaussianNB() is 6.22\n",
      "****************************************************************************************************\n",
      "\n",
      "\n",
      "AdaBoostClassifier()\n",
      "Accuracy_score 0.8515151515151516\n",
      "[[133  19]\n",
      " [ 30 148]]\n",
      "              precision    recall  f1-score   support\n",
      "\n",
      "           0       0.82      0.88      0.84       152\n",
      "           1       0.89      0.83      0.86       178\n",
      "\n",
      "    accuracy                           0.85       330\n",
      "   macro avg       0.85      0.85      0.85       330\n",
      "weighted avg       0.85      0.85      0.85       330\n",
      "\n",
      "CrossValScore\n",
      "[0.76363636 0.82727273 0.78636364 0.79452055 0.79908676]\n",
      "0.79417600664176\n",
      "difference between accuracy score and cv mean score for AdaBoostClassifier() is 5.73\n",
      "****************************************************************************************************\n",
      "\n",
      "\n",
      "GradientBoostingClassifier()\n",
      "Accuracy_score 0.8818181818181818\n",
      "[[137  15]\n",
      " [ 24 154]]\n",
      "              precision    recall  f1-score   support\n",
      "\n",
      "           0       0.85      0.90      0.88       152\n",
      "           1       0.91      0.87      0.89       178\n",
      "\n",
      "    accuracy                           0.88       330\n",
      "   macro avg       0.88      0.88      0.88       330\n",
      "weighted avg       0.88      0.88      0.88       330\n",
      "\n",
      "CrossValScore\n",
      "[0.80454545 0.84545455 0.82272727 0.86757991 0.80365297]\n",
      "0.8287920298879203\n",
      "difference between accuracy score and cv mean score for GradientBoostingClassifier() is 5.3\n",
      "****************************************************************************************************\n",
      "\n",
      "\n",
      "ExtraTreesClassifier()\n",
      "Accuracy_score 0.8636363636363636\n",
      "[[136  16]\n",
      " [ 29 149]]\n",
      "              precision    recall  f1-score   support\n",
      "\n",
      "           0       0.82      0.89      0.86       152\n",
      "           1       0.90      0.84      0.87       178\n",
      "\n",
      "    accuracy                           0.86       330\n",
      "   macro avg       0.86      0.87      0.86       330\n",
      "weighted avg       0.87      0.86      0.86       330\n",
      "\n",
      "CrossValScore\n",
      "[0.8        0.83636364 0.81818182 0.87671233 0.85388128]\n",
      "0.8370278123702782\n",
      "difference between accuracy score and cv mean score for ExtraTreesClassifier() is 2.66\n",
      "****************************************************************************************************\n",
      "\n",
      "\n",
      "LogisticRegression()\n",
      "Accuracy_score 0.8151515151515152\n",
      "[[132  20]\n",
      " [ 41 137]]\n",
      "              precision    recall  f1-score   support\n",
      "\n",
      "           0       0.76      0.87      0.81       152\n",
      "           1       0.87      0.77      0.82       178\n",
      "\n",
      "    accuracy                           0.82       330\n",
      "   macro avg       0.82      0.82      0.82       330\n",
      "weighted avg       0.82      0.82      0.82       330\n",
      "\n",
      "CrossValScore\n",
      "[0.76363636 0.79090909 0.75909091 0.78538813 0.75342466]\n",
      "0.7704898298048983\n",
      "difference between accuracy score and cv mean score for LogisticRegression() is 4.47\n",
      "****************************************************************************************************\n",
      "\n",
      "\n",
      "BaggingClassifier()\n",
      "Accuracy_score 0.8545454545454545\n",
      "[[137  15]\n",
      " [ 33 145]]\n",
      "              precision    recall  f1-score   support\n",
      "\n",
      "           0       0.81      0.90      0.85       152\n",
      "           1       0.91      0.81      0.86       178\n",
      "\n",
      "    accuracy                           0.85       330\n",
      "   macro avg       0.86      0.86      0.85       330\n",
      "weighted avg       0.86      0.85      0.85       330\n",
      "\n",
      "CrossValScore\n",
      "[0.75909091 0.82272727 0.85       0.87214612 0.84931507]\n",
      "0.8306558738065586\n",
      "difference between accuracy score and cv mean score for BaggingClassifier() is 2.39\n",
      "****************************************************************************************************\n",
      "\n",
      "\n"
     ]
    }
   ],
   "source": [
    "# Iterating Each model\n",
    "for m in o_models:\n",
    "    m.fit(xotrain,yotrain)\n",
    "    print(m)\n",
    "    print('Accuracy_score',accuracy_score(yotest,m.predict(xotest)))\n",
    "    print(confusion_matrix(yotest,m.predict(xotest)))\n",
    "    print(classification_report(yotest,m.predict(xotest)))\n",
    "    print('CrossValScore')\n",
    "    score=cross_val_score(m,xo1,yo1)\n",
    "    print(score)\n",
    "    print(score.mean())\n",
    "    print(\"difference between accuracy score and cv mean score for {} is\".format(m),round(accuracy_score(yotest,m.predict(xotest))*100-score.mean()*100,2))\n",
    "    print('*'*100)\n",
    "    print('\\n')"
   ]
  },
  {
   "cell_type": "code",
   "execution_count": null,
   "id": "eaf9f057-79af-449c-9a8e-c8a5080c789d",
   "metadata": {},
   "outputs": [],
   "source": []
  },
  {
   "cell_type": "markdown",
   "id": "928a69d5-1c11-4296-8594-38b4316fa2ba",
   "metadata": {},
   "source": [
    "Conclusion: Model is Performing almost identically on both data with and without outliers.\n",
    "Hence going ahead with model performing well on data wothout outliers."
   ]
  },
  {
   "cell_type": "markdown",
   "id": "f8e5a781-0503-422c-923d-de468b5065d3",
   "metadata": {},
   "source": [
    "# Hyperparameter Tuning"
   ]
  },
  {
   "cell_type": "code",
   "execution_count": 802,
   "id": "5ac791e1-42f0-429a-b7c4-d24b2b52a8b2",
   "metadata": {},
   "outputs": [],
   "source": [
    "# Importing Grid Search cv\n",
    "from sklearn.model_selection import GridSearchCV"
   ]
  },
  {
   "cell_type": "code",
   "execution_count": 803,
   "id": "5b6eebce-7f67-4889-84b6-4c86ab124264",
   "metadata": {},
   "outputs": [
    {
     "data": {
      "text/html": [
       "<style>#sk-container-id-1 {\n",
       "  /* Definition of color scheme common for light and dark mode */\n",
       "  --sklearn-color-text: black;\n",
       "  --sklearn-color-line: gray;\n",
       "  /* Definition of color scheme for unfitted estimators */\n",
       "  --sklearn-color-unfitted-level-0: #fff5e6;\n",
       "  --sklearn-color-unfitted-level-1: #f6e4d2;\n",
       "  --sklearn-color-unfitted-level-2: #ffe0b3;\n",
       "  --sklearn-color-unfitted-level-3: chocolate;\n",
       "  /* Definition of color scheme for fitted estimators */\n",
       "  --sklearn-color-fitted-level-0: #f0f8ff;\n",
       "  --sklearn-color-fitted-level-1: #d4ebff;\n",
       "  --sklearn-color-fitted-level-2: #b3dbfd;\n",
       "  --sklearn-color-fitted-level-3: cornflowerblue;\n",
       "\n",
       "  /* Specific color for light theme */\n",
       "  --sklearn-color-text-on-default-background: var(--sg-text-color, var(--theme-code-foreground, var(--jp-content-font-color1, black)));\n",
       "  --sklearn-color-background: var(--sg-background-color, var(--theme-background, var(--jp-layout-color0, white)));\n",
       "  --sklearn-color-border-box: var(--sg-text-color, var(--theme-code-foreground, var(--jp-content-font-color1, black)));\n",
       "  --sklearn-color-icon: #696969;\n",
       "\n",
       "  @media (prefers-color-scheme: dark) {\n",
       "    /* Redefinition of color scheme for dark theme */\n",
       "    --sklearn-color-text-on-default-background: var(--sg-text-color, var(--theme-code-foreground, var(--jp-content-font-color1, white)));\n",
       "    --sklearn-color-background: var(--sg-background-color, var(--theme-background, var(--jp-layout-color0, #111)));\n",
       "    --sklearn-color-border-box: var(--sg-text-color, var(--theme-code-foreground, var(--jp-content-font-color1, white)));\n",
       "    --sklearn-color-icon: #878787;\n",
       "  }\n",
       "}\n",
       "\n",
       "#sk-container-id-1 {\n",
       "  color: var(--sklearn-color-text);\n",
       "}\n",
       "\n",
       "#sk-container-id-1 pre {\n",
       "  padding: 0;\n",
       "}\n",
       "\n",
       "#sk-container-id-1 input.sk-hidden--visually {\n",
       "  border: 0;\n",
       "  clip: rect(1px 1px 1px 1px);\n",
       "  clip: rect(1px, 1px, 1px, 1px);\n",
       "  height: 1px;\n",
       "  margin: -1px;\n",
       "  overflow: hidden;\n",
       "  padding: 0;\n",
       "  position: absolute;\n",
       "  width: 1px;\n",
       "}\n",
       "\n",
       "#sk-container-id-1 div.sk-dashed-wrapped {\n",
       "  border: 1px dashed var(--sklearn-color-line);\n",
       "  margin: 0 0.4em 0.5em 0.4em;\n",
       "  box-sizing: border-box;\n",
       "  padding-bottom: 0.4em;\n",
       "  background-color: var(--sklearn-color-background);\n",
       "}\n",
       "\n",
       "#sk-container-id-1 div.sk-container {\n",
       "  /* jupyter's `normalize.less` sets `[hidden] { display: none; }`\n",
       "     but bootstrap.min.css set `[hidden] { display: none !important; }`\n",
       "     so we also need the `!important` here to be able to override the\n",
       "     default hidden behavior on the sphinx rendered scikit-learn.org.\n",
       "     See: https://github.com/scikit-learn/scikit-learn/issues/21755 */\n",
       "  display: inline-block !important;\n",
       "  position: relative;\n",
       "}\n",
       "\n",
       "#sk-container-id-1 div.sk-text-repr-fallback {\n",
       "  display: none;\n",
       "}\n",
       "\n",
       "div.sk-parallel-item,\n",
       "div.sk-serial,\n",
       "div.sk-item {\n",
       "  /* draw centered vertical line to link estimators */\n",
       "  background-image: linear-gradient(var(--sklearn-color-text-on-default-background), var(--sklearn-color-text-on-default-background));\n",
       "  background-size: 2px 100%;\n",
       "  background-repeat: no-repeat;\n",
       "  background-position: center center;\n",
       "}\n",
       "\n",
       "/* Parallel-specific style estimator block */\n",
       "\n",
       "#sk-container-id-1 div.sk-parallel-item::after {\n",
       "  content: \"\";\n",
       "  width: 100%;\n",
       "  border-bottom: 2px solid var(--sklearn-color-text-on-default-background);\n",
       "  flex-grow: 1;\n",
       "}\n",
       "\n",
       "#sk-container-id-1 div.sk-parallel {\n",
       "  display: flex;\n",
       "  align-items: stretch;\n",
       "  justify-content: center;\n",
       "  background-color: var(--sklearn-color-background);\n",
       "  position: relative;\n",
       "}\n",
       "\n",
       "#sk-container-id-1 div.sk-parallel-item {\n",
       "  display: flex;\n",
       "  flex-direction: column;\n",
       "}\n",
       "\n",
       "#sk-container-id-1 div.sk-parallel-item:first-child::after {\n",
       "  align-self: flex-end;\n",
       "  width: 50%;\n",
       "}\n",
       "\n",
       "#sk-container-id-1 div.sk-parallel-item:last-child::after {\n",
       "  align-self: flex-start;\n",
       "  width: 50%;\n",
       "}\n",
       "\n",
       "#sk-container-id-1 div.sk-parallel-item:only-child::after {\n",
       "  width: 0;\n",
       "}\n",
       "\n",
       "/* Serial-specific style estimator block */\n",
       "\n",
       "#sk-container-id-1 div.sk-serial {\n",
       "  display: flex;\n",
       "  flex-direction: column;\n",
       "  align-items: center;\n",
       "  background-color: var(--sklearn-color-background);\n",
       "  padding-right: 1em;\n",
       "  padding-left: 1em;\n",
       "}\n",
       "\n",
       "\n",
       "/* Toggleable style: style used for estimator/Pipeline/ColumnTransformer box that is\n",
       "clickable and can be expanded/collapsed.\n",
       "- Pipeline and ColumnTransformer use this feature and define the default style\n",
       "- Estimators will overwrite some part of the style using the `sk-estimator` class\n",
       "*/\n",
       "\n",
       "/* Pipeline and ColumnTransformer style (default) */\n",
       "\n",
       "#sk-container-id-1 div.sk-toggleable {\n",
       "  /* Default theme specific background. It is overwritten whether we have a\n",
       "  specific estimator or a Pipeline/ColumnTransformer */\n",
       "  background-color: var(--sklearn-color-background);\n",
       "}\n",
       "\n",
       "/* Toggleable label */\n",
       "#sk-container-id-1 label.sk-toggleable__label {\n",
       "  cursor: pointer;\n",
       "  display: block;\n",
       "  width: 100%;\n",
       "  margin-bottom: 0;\n",
       "  padding: 0.5em;\n",
       "  box-sizing: border-box;\n",
       "  text-align: center;\n",
       "}\n",
       "\n",
       "#sk-container-id-1 label.sk-toggleable__label-arrow:before {\n",
       "  /* Arrow on the left of the label */\n",
       "  content: \"▸\";\n",
       "  float: left;\n",
       "  margin-right: 0.25em;\n",
       "  color: var(--sklearn-color-icon);\n",
       "}\n",
       "\n",
       "#sk-container-id-1 label.sk-toggleable__label-arrow:hover:before {\n",
       "  color: var(--sklearn-color-text);\n",
       "}\n",
       "\n",
       "/* Toggleable content - dropdown */\n",
       "\n",
       "#sk-container-id-1 div.sk-toggleable__content {\n",
       "  max-height: 0;\n",
       "  max-width: 0;\n",
       "  overflow: hidden;\n",
       "  text-align: left;\n",
       "  /* unfitted */\n",
       "  background-color: var(--sklearn-color-unfitted-level-0);\n",
       "}\n",
       "\n",
       "#sk-container-id-1 div.sk-toggleable__content.fitted {\n",
       "  /* fitted */\n",
       "  background-color: var(--sklearn-color-fitted-level-0);\n",
       "}\n",
       "\n",
       "#sk-container-id-1 div.sk-toggleable__content pre {\n",
       "  margin: 0.2em;\n",
       "  border-radius: 0.25em;\n",
       "  color: var(--sklearn-color-text);\n",
       "  /* unfitted */\n",
       "  background-color: var(--sklearn-color-unfitted-level-0);\n",
       "}\n",
       "\n",
       "#sk-container-id-1 div.sk-toggleable__content.fitted pre {\n",
       "  /* unfitted */\n",
       "  background-color: var(--sklearn-color-fitted-level-0);\n",
       "}\n",
       "\n",
       "#sk-container-id-1 input.sk-toggleable__control:checked~div.sk-toggleable__content {\n",
       "  /* Expand drop-down */\n",
       "  max-height: 200px;\n",
       "  max-width: 100%;\n",
       "  overflow: auto;\n",
       "}\n",
       "\n",
       "#sk-container-id-1 input.sk-toggleable__control:checked~label.sk-toggleable__label-arrow:before {\n",
       "  content: \"▾\";\n",
       "}\n",
       "\n",
       "/* Pipeline/ColumnTransformer-specific style */\n",
       "\n",
       "#sk-container-id-1 div.sk-label input.sk-toggleable__control:checked~label.sk-toggleable__label {\n",
       "  color: var(--sklearn-color-text);\n",
       "  background-color: var(--sklearn-color-unfitted-level-2);\n",
       "}\n",
       "\n",
       "#sk-container-id-1 div.sk-label.fitted input.sk-toggleable__control:checked~label.sk-toggleable__label {\n",
       "  background-color: var(--sklearn-color-fitted-level-2);\n",
       "}\n",
       "\n",
       "/* Estimator-specific style */\n",
       "\n",
       "/* Colorize estimator box */\n",
       "#sk-container-id-1 div.sk-estimator input.sk-toggleable__control:checked~label.sk-toggleable__label {\n",
       "  /* unfitted */\n",
       "  background-color: var(--sklearn-color-unfitted-level-2);\n",
       "}\n",
       "\n",
       "#sk-container-id-1 div.sk-estimator.fitted input.sk-toggleable__control:checked~label.sk-toggleable__label {\n",
       "  /* fitted */\n",
       "  background-color: var(--sklearn-color-fitted-level-2);\n",
       "}\n",
       "\n",
       "#sk-container-id-1 div.sk-label label.sk-toggleable__label,\n",
       "#sk-container-id-1 div.sk-label label {\n",
       "  /* The background is the default theme color */\n",
       "  color: var(--sklearn-color-text-on-default-background);\n",
       "}\n",
       "\n",
       "/* On hover, darken the color of the background */\n",
       "#sk-container-id-1 div.sk-label:hover label.sk-toggleable__label {\n",
       "  color: var(--sklearn-color-text);\n",
       "  background-color: var(--sklearn-color-unfitted-level-2);\n",
       "}\n",
       "\n",
       "/* Label box, darken color on hover, fitted */\n",
       "#sk-container-id-1 div.sk-label.fitted:hover label.sk-toggleable__label.fitted {\n",
       "  color: var(--sklearn-color-text);\n",
       "  background-color: var(--sklearn-color-fitted-level-2);\n",
       "}\n",
       "\n",
       "/* Estimator label */\n",
       "\n",
       "#sk-container-id-1 div.sk-label label {\n",
       "  font-family: monospace;\n",
       "  font-weight: bold;\n",
       "  display: inline-block;\n",
       "  line-height: 1.2em;\n",
       "}\n",
       "\n",
       "#sk-container-id-1 div.sk-label-container {\n",
       "  text-align: center;\n",
       "}\n",
       "\n",
       "/* Estimator-specific */\n",
       "#sk-container-id-1 div.sk-estimator {\n",
       "  font-family: monospace;\n",
       "  border: 1px dotted var(--sklearn-color-border-box);\n",
       "  border-radius: 0.25em;\n",
       "  box-sizing: border-box;\n",
       "  margin-bottom: 0.5em;\n",
       "  /* unfitted */\n",
       "  background-color: var(--sklearn-color-unfitted-level-0);\n",
       "}\n",
       "\n",
       "#sk-container-id-1 div.sk-estimator.fitted {\n",
       "  /* fitted */\n",
       "  background-color: var(--sklearn-color-fitted-level-0);\n",
       "}\n",
       "\n",
       "/* on hover */\n",
       "#sk-container-id-1 div.sk-estimator:hover {\n",
       "  /* unfitted */\n",
       "  background-color: var(--sklearn-color-unfitted-level-2);\n",
       "}\n",
       "\n",
       "#sk-container-id-1 div.sk-estimator.fitted:hover {\n",
       "  /* fitted */\n",
       "  background-color: var(--sklearn-color-fitted-level-2);\n",
       "}\n",
       "\n",
       "/* Specification for estimator info (e.g. \"i\" and \"?\") */\n",
       "\n",
       "/* Common style for \"i\" and \"?\" */\n",
       "\n",
       ".sk-estimator-doc-link,\n",
       "a:link.sk-estimator-doc-link,\n",
       "a:visited.sk-estimator-doc-link {\n",
       "  float: right;\n",
       "  font-size: smaller;\n",
       "  line-height: 1em;\n",
       "  font-family: monospace;\n",
       "  background-color: var(--sklearn-color-background);\n",
       "  border-radius: 1em;\n",
       "  height: 1em;\n",
       "  width: 1em;\n",
       "  text-decoration: none !important;\n",
       "  margin-left: 1ex;\n",
       "  /* unfitted */\n",
       "  border: var(--sklearn-color-unfitted-level-1) 1pt solid;\n",
       "  color: var(--sklearn-color-unfitted-level-1);\n",
       "}\n",
       "\n",
       ".sk-estimator-doc-link.fitted,\n",
       "a:link.sk-estimator-doc-link.fitted,\n",
       "a:visited.sk-estimator-doc-link.fitted {\n",
       "  /* fitted */\n",
       "  border: var(--sklearn-color-fitted-level-1) 1pt solid;\n",
       "  color: var(--sklearn-color-fitted-level-1);\n",
       "}\n",
       "\n",
       "/* On hover */\n",
       "div.sk-estimator:hover .sk-estimator-doc-link:hover,\n",
       ".sk-estimator-doc-link:hover,\n",
       "div.sk-label-container:hover .sk-estimator-doc-link:hover,\n",
       ".sk-estimator-doc-link:hover {\n",
       "  /* unfitted */\n",
       "  background-color: var(--sklearn-color-unfitted-level-3);\n",
       "  color: var(--sklearn-color-background);\n",
       "  text-decoration: none;\n",
       "}\n",
       "\n",
       "div.sk-estimator.fitted:hover .sk-estimator-doc-link.fitted:hover,\n",
       ".sk-estimator-doc-link.fitted:hover,\n",
       "div.sk-label-container:hover .sk-estimator-doc-link.fitted:hover,\n",
       ".sk-estimator-doc-link.fitted:hover {\n",
       "  /* fitted */\n",
       "  background-color: var(--sklearn-color-fitted-level-3);\n",
       "  color: var(--sklearn-color-background);\n",
       "  text-decoration: none;\n",
       "}\n",
       "\n",
       "/* Span, style for the box shown on hovering the info icon */\n",
       ".sk-estimator-doc-link span {\n",
       "  display: none;\n",
       "  z-index: 9999;\n",
       "  position: relative;\n",
       "  font-weight: normal;\n",
       "  right: .2ex;\n",
       "  padding: .5ex;\n",
       "  margin: .5ex;\n",
       "  width: min-content;\n",
       "  min-width: 20ex;\n",
       "  max-width: 50ex;\n",
       "  color: var(--sklearn-color-text);\n",
       "  box-shadow: 2pt 2pt 4pt #999;\n",
       "  /* unfitted */\n",
       "  background: var(--sklearn-color-unfitted-level-0);\n",
       "  border: .5pt solid var(--sklearn-color-unfitted-level-3);\n",
       "}\n",
       "\n",
       ".sk-estimator-doc-link.fitted span {\n",
       "  /* fitted */\n",
       "  background: var(--sklearn-color-fitted-level-0);\n",
       "  border: var(--sklearn-color-fitted-level-3);\n",
       "}\n",
       "\n",
       ".sk-estimator-doc-link:hover span {\n",
       "  display: block;\n",
       "}\n",
       "\n",
       "/* \"?\"-specific style due to the `<a>` HTML tag */\n",
       "\n",
       "#sk-container-id-1 a.estimator_doc_link {\n",
       "  float: right;\n",
       "  font-size: 1rem;\n",
       "  line-height: 1em;\n",
       "  font-family: monospace;\n",
       "  background-color: var(--sklearn-color-background);\n",
       "  border-radius: 1rem;\n",
       "  height: 1rem;\n",
       "  width: 1rem;\n",
       "  text-decoration: none;\n",
       "  /* unfitted */\n",
       "  color: var(--sklearn-color-unfitted-level-1);\n",
       "  border: var(--sklearn-color-unfitted-level-1) 1pt solid;\n",
       "}\n",
       "\n",
       "#sk-container-id-1 a.estimator_doc_link.fitted {\n",
       "  /* fitted */\n",
       "  border: var(--sklearn-color-fitted-level-1) 1pt solid;\n",
       "  color: var(--sklearn-color-fitted-level-1);\n",
       "}\n",
       "\n",
       "/* On hover */\n",
       "#sk-container-id-1 a.estimator_doc_link:hover {\n",
       "  /* unfitted */\n",
       "  background-color: var(--sklearn-color-unfitted-level-3);\n",
       "  color: var(--sklearn-color-background);\n",
       "  text-decoration: none;\n",
       "}\n",
       "\n",
       "#sk-container-id-1 a.estimator_doc_link.fitted:hover {\n",
       "  /* fitted */\n",
       "  background-color: var(--sklearn-color-fitted-level-3);\n",
       "}\n",
       "</style><div id=\"sk-container-id-1\" class=\"sk-top-container\"><div class=\"sk-text-repr-fallback\"><pre>BaggingClassifier()</pre><b>In a Jupyter environment, please rerun this cell to show the HTML representation or trust the notebook. <br />On GitHub, the HTML representation is unable to render, please try loading this page with nbviewer.org.</b></div><div class=\"sk-container\" hidden><div class=\"sk-item\"><div class=\"sk-estimator fitted sk-toggleable\"><input class=\"sk-toggleable__control sk-hidden--visually\" id=\"sk-estimator-id-1\" type=\"checkbox\" checked><label for=\"sk-estimator-id-1\" class=\"sk-toggleable__label fitted sk-toggleable__label-arrow fitted\">&nbsp;&nbsp;BaggingClassifier<a class=\"sk-estimator-doc-link fitted\" rel=\"noreferrer\" target=\"_blank\" href=\"https://scikit-learn.org/1.5/modules/generated/sklearn.ensemble.BaggingClassifier.html\">?<span>Documentation for BaggingClassifier</span></a><span class=\"sk-estimator-doc-link fitted\">i<span>Fitted</span></span></label><div class=\"sk-toggleable__content fitted\"><pre>BaggingClassifier()</pre></div> </div></div></div></div>"
      ],
      "text/plain": [
       "BaggingClassifier()"
      ]
     },
     "execution_count": 803,
     "metadata": {},
     "output_type": "execute_result"
    }
   ],
   "source": [
    "bgc"
   ]
  },
  {
   "cell_type": "code",
   "execution_count": null,
   "id": "da623d21-1799-44ff-9a9a-d8d37f2e5a5d",
   "metadata": {},
   "outputs": [],
   "source": []
  },
  {
   "cell_type": "markdown",
   "id": "276b1ce7-0470-4d4d-bbfc-43e7762bd0eb",
   "metadata": {},
   "source": [
    "Creating Parameters Dictionary"
   ]
  },
  {
   "cell_type": "code",
   "execution_count": 831,
   "id": "e8c24130-c5d2-47f8-a6ea-b389fcaa345f",
   "metadata": {},
   "outputs": [],
   "source": [
    "params={'n_estimators':[10,20,30,40,50],\n",
    "       'max_samples':[0.1,0.2,0.3,0.4,0.5,0.6,0.7,0.8,0.9,1.0],\n",
    "       'max_features':[0.1,0.2,0.3,0.4,0.5,0.6,0.7,0.8,0.9,1.0]}"
   ]
  },
  {
   "cell_type": "code",
   "execution_count": 832,
   "id": "d8a4ad5b-0d2c-4e91-ad50-d6d190a1d3c5",
   "metadata": {},
   "outputs": [],
   "source": [
    "gcv=GridSearchCV(bgc,params,cv=5)"
   ]
  },
  {
   "cell_type": "code",
   "execution_count": null,
   "id": "c8789e6a-255d-4483-a633-53637ac2dc4b",
   "metadata": {},
   "outputs": [],
   "source": []
  },
  {
   "cell_type": "markdown",
   "id": "230cb8a6-b638-45ba-8c31-e281d11b0e32",
   "metadata": {},
   "source": [
    "Finding best Parameters"
   ]
  },
  {
   "cell_type": "code",
   "execution_count": 833,
   "id": "4d1b56fa-3ccc-4d1a-9d14-7058b71ed73d",
   "metadata": {},
   "outputs": [
    {
     "data": {
      "text/html": [
       "<style>#sk-container-id-6 {\n",
       "  /* Definition of color scheme common for light and dark mode */\n",
       "  --sklearn-color-text: black;\n",
       "  --sklearn-color-line: gray;\n",
       "  /* Definition of color scheme for unfitted estimators */\n",
       "  --sklearn-color-unfitted-level-0: #fff5e6;\n",
       "  --sklearn-color-unfitted-level-1: #f6e4d2;\n",
       "  --sklearn-color-unfitted-level-2: #ffe0b3;\n",
       "  --sklearn-color-unfitted-level-3: chocolate;\n",
       "  /* Definition of color scheme for fitted estimators */\n",
       "  --sklearn-color-fitted-level-0: #f0f8ff;\n",
       "  --sklearn-color-fitted-level-1: #d4ebff;\n",
       "  --sklearn-color-fitted-level-2: #b3dbfd;\n",
       "  --sklearn-color-fitted-level-3: cornflowerblue;\n",
       "\n",
       "  /* Specific color for light theme */\n",
       "  --sklearn-color-text-on-default-background: var(--sg-text-color, var(--theme-code-foreground, var(--jp-content-font-color1, black)));\n",
       "  --sklearn-color-background: var(--sg-background-color, var(--theme-background, var(--jp-layout-color0, white)));\n",
       "  --sklearn-color-border-box: var(--sg-text-color, var(--theme-code-foreground, var(--jp-content-font-color1, black)));\n",
       "  --sklearn-color-icon: #696969;\n",
       "\n",
       "  @media (prefers-color-scheme: dark) {\n",
       "    /* Redefinition of color scheme for dark theme */\n",
       "    --sklearn-color-text-on-default-background: var(--sg-text-color, var(--theme-code-foreground, var(--jp-content-font-color1, white)));\n",
       "    --sklearn-color-background: var(--sg-background-color, var(--theme-background, var(--jp-layout-color0, #111)));\n",
       "    --sklearn-color-border-box: var(--sg-text-color, var(--theme-code-foreground, var(--jp-content-font-color1, white)));\n",
       "    --sklearn-color-icon: #878787;\n",
       "  }\n",
       "}\n",
       "\n",
       "#sk-container-id-6 {\n",
       "  color: var(--sklearn-color-text);\n",
       "}\n",
       "\n",
       "#sk-container-id-6 pre {\n",
       "  padding: 0;\n",
       "}\n",
       "\n",
       "#sk-container-id-6 input.sk-hidden--visually {\n",
       "  border: 0;\n",
       "  clip: rect(1px 1px 1px 1px);\n",
       "  clip: rect(1px, 1px, 1px, 1px);\n",
       "  height: 1px;\n",
       "  margin: -1px;\n",
       "  overflow: hidden;\n",
       "  padding: 0;\n",
       "  position: absolute;\n",
       "  width: 1px;\n",
       "}\n",
       "\n",
       "#sk-container-id-6 div.sk-dashed-wrapped {\n",
       "  border: 1px dashed var(--sklearn-color-line);\n",
       "  margin: 0 0.4em 0.5em 0.4em;\n",
       "  box-sizing: border-box;\n",
       "  padding-bottom: 0.4em;\n",
       "  background-color: var(--sklearn-color-background);\n",
       "}\n",
       "\n",
       "#sk-container-id-6 div.sk-container {\n",
       "  /* jupyter's `normalize.less` sets `[hidden] { display: none; }`\n",
       "     but bootstrap.min.css set `[hidden] { display: none !important; }`\n",
       "     so we also need the `!important` here to be able to override the\n",
       "     default hidden behavior on the sphinx rendered scikit-learn.org.\n",
       "     See: https://github.com/scikit-learn/scikit-learn/issues/21755 */\n",
       "  display: inline-block !important;\n",
       "  position: relative;\n",
       "}\n",
       "\n",
       "#sk-container-id-6 div.sk-text-repr-fallback {\n",
       "  display: none;\n",
       "}\n",
       "\n",
       "div.sk-parallel-item,\n",
       "div.sk-serial,\n",
       "div.sk-item {\n",
       "  /* draw centered vertical line to link estimators */\n",
       "  background-image: linear-gradient(var(--sklearn-color-text-on-default-background), var(--sklearn-color-text-on-default-background));\n",
       "  background-size: 2px 100%;\n",
       "  background-repeat: no-repeat;\n",
       "  background-position: center center;\n",
       "}\n",
       "\n",
       "/* Parallel-specific style estimator block */\n",
       "\n",
       "#sk-container-id-6 div.sk-parallel-item::after {\n",
       "  content: \"\";\n",
       "  width: 100%;\n",
       "  border-bottom: 2px solid var(--sklearn-color-text-on-default-background);\n",
       "  flex-grow: 1;\n",
       "}\n",
       "\n",
       "#sk-container-id-6 div.sk-parallel {\n",
       "  display: flex;\n",
       "  align-items: stretch;\n",
       "  justify-content: center;\n",
       "  background-color: var(--sklearn-color-background);\n",
       "  position: relative;\n",
       "}\n",
       "\n",
       "#sk-container-id-6 div.sk-parallel-item {\n",
       "  display: flex;\n",
       "  flex-direction: column;\n",
       "}\n",
       "\n",
       "#sk-container-id-6 div.sk-parallel-item:first-child::after {\n",
       "  align-self: flex-end;\n",
       "  width: 50%;\n",
       "}\n",
       "\n",
       "#sk-container-id-6 div.sk-parallel-item:last-child::after {\n",
       "  align-self: flex-start;\n",
       "  width: 50%;\n",
       "}\n",
       "\n",
       "#sk-container-id-6 div.sk-parallel-item:only-child::after {\n",
       "  width: 0;\n",
       "}\n",
       "\n",
       "/* Serial-specific style estimator block */\n",
       "\n",
       "#sk-container-id-6 div.sk-serial {\n",
       "  display: flex;\n",
       "  flex-direction: column;\n",
       "  align-items: center;\n",
       "  background-color: var(--sklearn-color-background);\n",
       "  padding-right: 1em;\n",
       "  padding-left: 1em;\n",
       "}\n",
       "\n",
       "\n",
       "/* Toggleable style: style used for estimator/Pipeline/ColumnTransformer box that is\n",
       "clickable and can be expanded/collapsed.\n",
       "- Pipeline and ColumnTransformer use this feature and define the default style\n",
       "- Estimators will overwrite some part of the style using the `sk-estimator` class\n",
       "*/\n",
       "\n",
       "/* Pipeline and ColumnTransformer style (default) */\n",
       "\n",
       "#sk-container-id-6 div.sk-toggleable {\n",
       "  /* Default theme specific background. It is overwritten whether we have a\n",
       "  specific estimator or a Pipeline/ColumnTransformer */\n",
       "  background-color: var(--sklearn-color-background);\n",
       "}\n",
       "\n",
       "/* Toggleable label */\n",
       "#sk-container-id-6 label.sk-toggleable__label {\n",
       "  cursor: pointer;\n",
       "  display: block;\n",
       "  width: 100%;\n",
       "  margin-bottom: 0;\n",
       "  padding: 0.5em;\n",
       "  box-sizing: border-box;\n",
       "  text-align: center;\n",
       "}\n",
       "\n",
       "#sk-container-id-6 label.sk-toggleable__label-arrow:before {\n",
       "  /* Arrow on the left of the label */\n",
       "  content: \"▸\";\n",
       "  float: left;\n",
       "  margin-right: 0.25em;\n",
       "  color: var(--sklearn-color-icon);\n",
       "}\n",
       "\n",
       "#sk-container-id-6 label.sk-toggleable__label-arrow:hover:before {\n",
       "  color: var(--sklearn-color-text);\n",
       "}\n",
       "\n",
       "/* Toggleable content - dropdown */\n",
       "\n",
       "#sk-container-id-6 div.sk-toggleable__content {\n",
       "  max-height: 0;\n",
       "  max-width: 0;\n",
       "  overflow: hidden;\n",
       "  text-align: left;\n",
       "  /* unfitted */\n",
       "  background-color: var(--sklearn-color-unfitted-level-0);\n",
       "}\n",
       "\n",
       "#sk-container-id-6 div.sk-toggleable__content.fitted {\n",
       "  /* fitted */\n",
       "  background-color: var(--sklearn-color-fitted-level-0);\n",
       "}\n",
       "\n",
       "#sk-container-id-6 div.sk-toggleable__content pre {\n",
       "  margin: 0.2em;\n",
       "  border-radius: 0.25em;\n",
       "  color: var(--sklearn-color-text);\n",
       "  /* unfitted */\n",
       "  background-color: var(--sklearn-color-unfitted-level-0);\n",
       "}\n",
       "\n",
       "#sk-container-id-6 div.sk-toggleable__content.fitted pre {\n",
       "  /* unfitted */\n",
       "  background-color: var(--sklearn-color-fitted-level-0);\n",
       "}\n",
       "\n",
       "#sk-container-id-6 input.sk-toggleable__control:checked~div.sk-toggleable__content {\n",
       "  /* Expand drop-down */\n",
       "  max-height: 200px;\n",
       "  max-width: 100%;\n",
       "  overflow: auto;\n",
       "}\n",
       "\n",
       "#sk-container-id-6 input.sk-toggleable__control:checked~label.sk-toggleable__label-arrow:before {\n",
       "  content: \"▾\";\n",
       "}\n",
       "\n",
       "/* Pipeline/ColumnTransformer-specific style */\n",
       "\n",
       "#sk-container-id-6 div.sk-label input.sk-toggleable__control:checked~label.sk-toggleable__label {\n",
       "  color: var(--sklearn-color-text);\n",
       "  background-color: var(--sklearn-color-unfitted-level-2);\n",
       "}\n",
       "\n",
       "#sk-container-id-6 div.sk-label.fitted input.sk-toggleable__control:checked~label.sk-toggleable__label {\n",
       "  background-color: var(--sklearn-color-fitted-level-2);\n",
       "}\n",
       "\n",
       "/* Estimator-specific style */\n",
       "\n",
       "/* Colorize estimator box */\n",
       "#sk-container-id-6 div.sk-estimator input.sk-toggleable__control:checked~label.sk-toggleable__label {\n",
       "  /* unfitted */\n",
       "  background-color: var(--sklearn-color-unfitted-level-2);\n",
       "}\n",
       "\n",
       "#sk-container-id-6 div.sk-estimator.fitted input.sk-toggleable__control:checked~label.sk-toggleable__label {\n",
       "  /* fitted */\n",
       "  background-color: var(--sklearn-color-fitted-level-2);\n",
       "}\n",
       "\n",
       "#sk-container-id-6 div.sk-label label.sk-toggleable__label,\n",
       "#sk-container-id-6 div.sk-label label {\n",
       "  /* The background is the default theme color */\n",
       "  color: var(--sklearn-color-text-on-default-background);\n",
       "}\n",
       "\n",
       "/* On hover, darken the color of the background */\n",
       "#sk-container-id-6 div.sk-label:hover label.sk-toggleable__label {\n",
       "  color: var(--sklearn-color-text);\n",
       "  background-color: var(--sklearn-color-unfitted-level-2);\n",
       "}\n",
       "\n",
       "/* Label box, darken color on hover, fitted */\n",
       "#sk-container-id-6 div.sk-label.fitted:hover label.sk-toggleable__label.fitted {\n",
       "  color: var(--sklearn-color-text);\n",
       "  background-color: var(--sklearn-color-fitted-level-2);\n",
       "}\n",
       "\n",
       "/* Estimator label */\n",
       "\n",
       "#sk-container-id-6 div.sk-label label {\n",
       "  font-family: monospace;\n",
       "  font-weight: bold;\n",
       "  display: inline-block;\n",
       "  line-height: 1.2em;\n",
       "}\n",
       "\n",
       "#sk-container-id-6 div.sk-label-container {\n",
       "  text-align: center;\n",
       "}\n",
       "\n",
       "/* Estimator-specific */\n",
       "#sk-container-id-6 div.sk-estimator {\n",
       "  font-family: monospace;\n",
       "  border: 1px dotted var(--sklearn-color-border-box);\n",
       "  border-radius: 0.25em;\n",
       "  box-sizing: border-box;\n",
       "  margin-bottom: 0.5em;\n",
       "  /* unfitted */\n",
       "  background-color: var(--sklearn-color-unfitted-level-0);\n",
       "}\n",
       "\n",
       "#sk-container-id-6 div.sk-estimator.fitted {\n",
       "  /* fitted */\n",
       "  background-color: var(--sklearn-color-fitted-level-0);\n",
       "}\n",
       "\n",
       "/* on hover */\n",
       "#sk-container-id-6 div.sk-estimator:hover {\n",
       "  /* unfitted */\n",
       "  background-color: var(--sklearn-color-unfitted-level-2);\n",
       "}\n",
       "\n",
       "#sk-container-id-6 div.sk-estimator.fitted:hover {\n",
       "  /* fitted */\n",
       "  background-color: var(--sklearn-color-fitted-level-2);\n",
       "}\n",
       "\n",
       "/* Specification for estimator info (e.g. \"i\" and \"?\") */\n",
       "\n",
       "/* Common style for \"i\" and \"?\" */\n",
       "\n",
       ".sk-estimator-doc-link,\n",
       "a:link.sk-estimator-doc-link,\n",
       "a:visited.sk-estimator-doc-link {\n",
       "  float: right;\n",
       "  font-size: smaller;\n",
       "  line-height: 1em;\n",
       "  font-family: monospace;\n",
       "  background-color: var(--sklearn-color-background);\n",
       "  border-radius: 1em;\n",
       "  height: 1em;\n",
       "  width: 1em;\n",
       "  text-decoration: none !important;\n",
       "  margin-left: 1ex;\n",
       "  /* unfitted */\n",
       "  border: var(--sklearn-color-unfitted-level-1) 1pt solid;\n",
       "  color: var(--sklearn-color-unfitted-level-1);\n",
       "}\n",
       "\n",
       ".sk-estimator-doc-link.fitted,\n",
       "a:link.sk-estimator-doc-link.fitted,\n",
       "a:visited.sk-estimator-doc-link.fitted {\n",
       "  /* fitted */\n",
       "  border: var(--sklearn-color-fitted-level-1) 1pt solid;\n",
       "  color: var(--sklearn-color-fitted-level-1);\n",
       "}\n",
       "\n",
       "/* On hover */\n",
       "div.sk-estimator:hover .sk-estimator-doc-link:hover,\n",
       ".sk-estimator-doc-link:hover,\n",
       "div.sk-label-container:hover .sk-estimator-doc-link:hover,\n",
       ".sk-estimator-doc-link:hover {\n",
       "  /* unfitted */\n",
       "  background-color: var(--sklearn-color-unfitted-level-3);\n",
       "  color: var(--sklearn-color-background);\n",
       "  text-decoration: none;\n",
       "}\n",
       "\n",
       "div.sk-estimator.fitted:hover .sk-estimator-doc-link.fitted:hover,\n",
       ".sk-estimator-doc-link.fitted:hover,\n",
       "div.sk-label-container:hover .sk-estimator-doc-link.fitted:hover,\n",
       ".sk-estimator-doc-link.fitted:hover {\n",
       "  /* fitted */\n",
       "  background-color: var(--sklearn-color-fitted-level-3);\n",
       "  color: var(--sklearn-color-background);\n",
       "  text-decoration: none;\n",
       "}\n",
       "\n",
       "/* Span, style for the box shown on hovering the info icon */\n",
       ".sk-estimator-doc-link span {\n",
       "  display: none;\n",
       "  z-index: 9999;\n",
       "  position: relative;\n",
       "  font-weight: normal;\n",
       "  right: .2ex;\n",
       "  padding: .5ex;\n",
       "  margin: .5ex;\n",
       "  width: min-content;\n",
       "  min-width: 20ex;\n",
       "  max-width: 50ex;\n",
       "  color: var(--sklearn-color-text);\n",
       "  box-shadow: 2pt 2pt 4pt #999;\n",
       "  /* unfitted */\n",
       "  background: var(--sklearn-color-unfitted-level-0);\n",
       "  border: .5pt solid var(--sklearn-color-unfitted-level-3);\n",
       "}\n",
       "\n",
       ".sk-estimator-doc-link.fitted span {\n",
       "  /* fitted */\n",
       "  background: var(--sklearn-color-fitted-level-0);\n",
       "  border: var(--sklearn-color-fitted-level-3);\n",
       "}\n",
       "\n",
       ".sk-estimator-doc-link:hover span {\n",
       "  display: block;\n",
       "}\n",
       "\n",
       "/* \"?\"-specific style due to the `<a>` HTML tag */\n",
       "\n",
       "#sk-container-id-6 a.estimator_doc_link {\n",
       "  float: right;\n",
       "  font-size: 1rem;\n",
       "  line-height: 1em;\n",
       "  font-family: monospace;\n",
       "  background-color: var(--sklearn-color-background);\n",
       "  border-radius: 1rem;\n",
       "  height: 1rem;\n",
       "  width: 1rem;\n",
       "  text-decoration: none;\n",
       "  /* unfitted */\n",
       "  color: var(--sklearn-color-unfitted-level-1);\n",
       "  border: var(--sklearn-color-unfitted-level-1) 1pt solid;\n",
       "}\n",
       "\n",
       "#sk-container-id-6 a.estimator_doc_link.fitted {\n",
       "  /* fitted */\n",
       "  border: var(--sklearn-color-fitted-level-1) 1pt solid;\n",
       "  color: var(--sklearn-color-fitted-level-1);\n",
       "}\n",
       "\n",
       "/* On hover */\n",
       "#sk-container-id-6 a.estimator_doc_link:hover {\n",
       "  /* unfitted */\n",
       "  background-color: var(--sklearn-color-unfitted-level-3);\n",
       "  color: var(--sklearn-color-background);\n",
       "  text-decoration: none;\n",
       "}\n",
       "\n",
       "#sk-container-id-6 a.estimator_doc_link.fitted:hover {\n",
       "  /* fitted */\n",
       "  background-color: var(--sklearn-color-fitted-level-3);\n",
       "}\n",
       "</style><div id=\"sk-container-id-6\" class=\"sk-top-container\"><div class=\"sk-text-repr-fallback\"><pre>GridSearchCV(cv=5,\n",
       "             estimator=BaggingClassifier(max_features=0.8, max_samples=0.6,\n",
       "                                         n_estimators=30),\n",
       "             param_grid={&#x27;max_features&#x27;: [0.1, 0.2, 0.3, 0.4, 0.5, 0.6, 0.7,\n",
       "                                          0.8, 0.9, 1.0],\n",
       "                         &#x27;max_samples&#x27;: [0.1, 0.2, 0.3, 0.4, 0.5, 0.6, 0.7, 0.8,\n",
       "                                         0.9, 1.0],\n",
       "                         &#x27;n_estimators&#x27;: [10, 20, 30, 40, 50]})</pre><b>In a Jupyter environment, please rerun this cell to show the HTML representation or trust the notebook. <br />On GitHub, the HTML representation is unable to render, please try loading this page with nbviewer.org.</b></div><div class=\"sk-container\" hidden><div class=\"sk-item sk-dashed-wrapped\"><div class=\"sk-label-container\"><div class=\"sk-label fitted sk-toggleable\"><input class=\"sk-toggleable__control sk-hidden--visually\" id=\"sk-estimator-id-14\" type=\"checkbox\" ><label for=\"sk-estimator-id-14\" class=\"sk-toggleable__label fitted sk-toggleable__label-arrow fitted\">&nbsp;&nbsp;GridSearchCV<a class=\"sk-estimator-doc-link fitted\" rel=\"noreferrer\" target=\"_blank\" href=\"https://scikit-learn.org/1.5/modules/generated/sklearn.model_selection.GridSearchCV.html\">?<span>Documentation for GridSearchCV</span></a><span class=\"sk-estimator-doc-link fitted\">i<span>Fitted</span></span></label><div class=\"sk-toggleable__content fitted\"><pre>GridSearchCV(cv=5,\n",
       "             estimator=BaggingClassifier(max_features=0.8, max_samples=0.6,\n",
       "                                         n_estimators=30),\n",
       "             param_grid={&#x27;max_features&#x27;: [0.1, 0.2, 0.3, 0.4, 0.5, 0.6, 0.7,\n",
       "                                          0.8, 0.9, 1.0],\n",
       "                         &#x27;max_samples&#x27;: [0.1, 0.2, 0.3, 0.4, 0.5, 0.6, 0.7, 0.8,\n",
       "                                         0.9, 1.0],\n",
       "                         &#x27;n_estimators&#x27;: [10, 20, 30, 40, 50]})</pre></div> </div></div><div class=\"sk-parallel\"><div class=\"sk-parallel-item\"><div class=\"sk-item\"><div class=\"sk-label-container\"><div class=\"sk-label fitted sk-toggleable\"><input class=\"sk-toggleable__control sk-hidden--visually\" id=\"sk-estimator-id-15\" type=\"checkbox\" ><label for=\"sk-estimator-id-15\" class=\"sk-toggleable__label fitted sk-toggleable__label-arrow fitted\">best_estimator_: BaggingClassifier</label><div class=\"sk-toggleable__content fitted\"><pre>BaggingClassifier(max_features=0.7, max_samples=0.9, n_estimators=50)</pre></div> </div></div><div class=\"sk-serial\"><div class=\"sk-item\"><div class=\"sk-estimator fitted sk-toggleable\"><input class=\"sk-toggleable__control sk-hidden--visually\" id=\"sk-estimator-id-16\" type=\"checkbox\" ><label for=\"sk-estimator-id-16\" class=\"sk-toggleable__label fitted sk-toggleable__label-arrow fitted\">&nbsp;BaggingClassifier<a class=\"sk-estimator-doc-link fitted\" rel=\"noreferrer\" target=\"_blank\" href=\"https://scikit-learn.org/1.5/modules/generated/sklearn.ensemble.BaggingClassifier.html\">?<span>Documentation for BaggingClassifier</span></a></label><div class=\"sk-toggleable__content fitted\"><pre>BaggingClassifier(max_features=0.7, max_samples=0.9, n_estimators=50)</pre></div> </div></div></div></div></div></div></div></div></div>"
      ],
      "text/plain": [
       "GridSearchCV(cv=5,\n",
       "             estimator=BaggingClassifier(max_features=0.8, max_samples=0.6,\n",
       "                                         n_estimators=30),\n",
       "             param_grid={'max_features': [0.1, 0.2, 0.3, 0.4, 0.5, 0.6, 0.7,\n",
       "                                          0.8, 0.9, 1.0],\n",
       "                         'max_samples': [0.1, 0.2, 0.3, 0.4, 0.5, 0.6, 0.7, 0.8,\n",
       "                                         0.9, 1.0],\n",
       "                         'n_estimators': [10, 20, 30, 40, 50]})"
      ]
     },
     "execution_count": 833,
     "metadata": {},
     "output_type": "execute_result"
    }
   ],
   "source": [
    "gcv.fit(xtrain,ytrain)"
   ]
  },
  {
   "cell_type": "code",
   "execution_count": 834,
   "id": "f13b29a7-943c-4afd-9210-569d3e13bc87",
   "metadata": {},
   "outputs": [
    {
     "data": {
      "text/plain": [
       "{'max_features': 0.7, 'max_samples': 0.9, 'n_estimators': 50}"
      ]
     },
     "execution_count": 834,
     "metadata": {},
     "output_type": "execute_result"
    }
   ],
   "source": [
    "gcv.best_params_"
   ]
  },
  {
   "cell_type": "code",
   "execution_count": 837,
   "id": "a712e124-6c1f-49a9-b2ed-35c897691ed2",
   "metadata": {},
   "outputs": [],
   "source": [
    "Model_bgc=BaggingClassifier(n_estimators=50,max_samples=0.9,max_features=0.7)"
   ]
  },
  {
   "cell_type": "code",
   "execution_count": 839,
   "id": "dc3f786d-a103-4167-b039-3fa5e5a8c5a0",
   "metadata": {},
   "outputs": [
    {
     "name": "stdout",
     "output_type": "stream",
     "text": [
      "0.9009287925696594\n",
      "[[140  10]\n",
      " [ 22 151]]\n",
      "              precision    recall  f1-score   support\n",
      "\n",
      "           0       0.86      0.93      0.90       150\n",
      "           1       0.94      0.87      0.90       173\n",
      "\n",
      "    accuracy                           0.90       323\n",
      "   macro avg       0.90      0.90      0.90       323\n",
      "weighted avg       0.90      0.90      0.90       323\n",
      "\n"
     ]
    }
   ],
   "source": [
    "Model_bgc.fit(xtrain,ytrain)\n",
    "ModelBGC=bgc.predict(xtest)\n",
    "print(accuracy_score(ytest,ModelBGC))\n",
    "print(confusion_matrix(ytest,ModelBGC))\n",
    "print(classification_report(ytest,ModelBGC))"
   ]
  },
  {
   "cell_type": "markdown",
   "id": "c15657fe-cd0a-449c-ba9d-8a86fcc146ef",
   "metadata": {},
   "source": [
    "Model accuracy Score increased to 5 %."
   ]
  },
  {
   "cell_type": "markdown",
   "id": "64ecb597-85a7-4f6c-85d7-617f7a002706",
   "metadata": {},
   "source": [
    "# AUC ROC for best model"
   ]
  },
  {
   "cell_type": "code",
   "execution_count": 840,
   "id": "0d2039b8-65f9-4525-9d74-3cb741e2fc5f",
   "metadata": {},
   "outputs": [],
   "source": [
    "# Importing Libraries\n",
    "from sklearn.metrics import roc_curve, auc, RocCurveDisplay"
   ]
  },
  {
   "cell_type": "code",
   "execution_count": 841,
   "id": "07fe8bfe-a320-4e6c-a273-7c9651302b2c",
   "metadata": {},
   "outputs": [
    {
     "data": {
      "image/png": "[encoded data removed]",
      "text/plain": [
       "<Figure size 640x480 with 1 Axes>"
      ]
     },
     "metadata": {},
     "output_type": "display_data"
    }
   ],
   "source": [
    "# Plotting Graph\n",
    "fpr,tpr,thresholds=roc_curve(ytest,ModelBGC)\n",
    "roc_auc=auc(fpr,tpr)\n",
    "graph=RocCurveDisplay(fpr=fpr,tpr=tpr,roc_auc=roc_auc,estimator_name=Model_bgc)\n",
    "graph.plot()\n",
    "plt.title('AUC_ROC_CURVE')\n",
    "plt.show()"
   ]
  },
  {
   "cell_type": "markdown",
   "id": "6e7c552f-6648-4087-966b-a18f15195c41",
   "metadata": {},
   "source": [
    "# Saving Model"
   ]
  },
  {
   "cell_type": "code",
   "execution_count": 842,
   "id": "6093af05-0f28-4413-b0b9-04422d6b918b",
   "metadata": {},
   "outputs": [],
   "source": [
    "#importing pickle\n",
    "import pickle"
   ]
  },
  {
   "cell_type": "code",
   "execution_count": 851,
   "id": "d74ed801-93e5-42a5-a5bf-a826c2b0a662",
   "metadata": {},
   "outputs": [],
   "source": [
    "filename='Titanic_survivor.pkl'"
   ]
  },
  {
   "cell_type": "code",
   "execution_count": 852,
   "id": "00ae6c77-b7d6-495e-85ad-bbafad55d267",
   "metadata": {},
   "outputs": [],
   "source": [
    "# Saving file\n",
    "pickle.dump(Model_bgc,open(filename,'wb'))"
   ]
  }
 ],
 "metadata": {
  "kernelspec": {
   "display_name": "Python 3 (ipykernel)",
   "language": "python",
   "name": "python3"
  },
  "language_info": {
   "codemirror_mode": {
    "name": "ipython",
    "version": 3
   },
   "file_extension": ".py",
   "mimetype": "text/x-python",
   "name": "python",
   "nbconvert_exporter": "python",
   "pygments_lexer": "ipython3",
   "version": "3.10.14"
  }
 },
 "nbformat": 4,
 "nbformat_minor": 5
}
